{
 "cells": [
  {
   "cell_type": "markdown",
   "metadata": {},
   "source": [
    "# Correlation between airbag malfunction and injury\n",
    "\n"
   ]
  },
  {
   "cell_type": "markdown",
   "metadata": {},
   "source": [
    "        "
   ]
  },
  {
   "cell_type": "markdown",
   "metadata": {},
   "source": [
    "\n",
    "    \n",
    "One of the most important safety features of a car is the airbag, which softens the blow on \n",
    "the occupant in the event of a crash. With the Takata airbag recall that took place over the past few years, which was a safety recall on over 8,000,000 faulty airbags installed in vehicles from 2002-2008, there has been much concern over airbags. Along with that, airbag malfunctions in general can prove to be very dangerous, but just how dangerous are they?\n",
    "    \n",
    "The goal of this report is to see if there is a correlation in the NHTSA database about complaints of airbag malfunction and reported injury and/or death. Are airbag malfunctions more dangerous than other malfunctions a vehicle can experience?\n",
    "      "
   ]
  },
  {
   "cell_type": "markdown",
   "metadata": {},
   "source": [
    "# Code"
   ]
  },
  {
   "cell_type": "markdown",
   "metadata": {},
   "source": [
    "\n",
    "\n",
    "All of our necessary imports; we will be using json, numpy, and altair"
   ]
  },
  {
   "cell_type": "code",
   "execution_count": 1,
   "metadata": {
    "ExecuteTime": {
     "end_time": "2020-11-16T04:19:49.455797Z",
     "start_time": "2020-11-16T04:19:47.452167Z"
    }
   },
   "outputs": [],
   "source": [
    "import json\n",
    "import requests\n",
    "from os.path import exists,join\n",
    "from os import makedirs\n",
    "import numpy as np\n",
    "import altair as alt\n",
    "import pandas as pd"
   ]
  },
  {
   "cell_type": "markdown",
   "metadata": {},
   "source": [
    "Here we are loading the data from the NHTSA complaint API. To make the loading times more reasonable, this code creates a local cache of vehicles that are called in the program for local access. We also have a get_complaints method to access information based on make, model, year."
   ]
  },
  {
   "cell_type": "code",
   "execution_count": 2,
   "metadata": {
    "ExecuteTime": {
     "end_time": "2020-11-16T04:19:49.471807Z",
     "start_time": "2020-11-16T04:19:49.455797Z"
    }
   },
   "outputs": [],
   "source": [
    "url0 = 'http://www.nhtsa.gov/webapi/api/Complaints/vehicle/modelyear/{}/make/{}/model/{}?format=json'\n",
    "def get_complaints(make,model,year):\n",
    "    folder = 'NHTSAcomplaints'\n",
    "    if not exists(folder): makedirs(folder)\n",
    "    filename = make + '_' + model + '_' + str(year) + '.json'\n",
    "    path = join(folder,filename)\n",
    "    if exists( path ):\n",
    "       # print('Have previously downloaded this: getting from local file')\n",
    "        with open(path) as f:\n",
    "            results = json.load(f)\n",
    "    else:\n",
    "        #print('Haven\\'t downloaded this one yet: getting from NHTSA and will save to local file')\n",
    "        url = url0.format(year,make,model)\n",
    "        results = json.loads(requests.get(url).text)\n",
    "        with open(path,'w') as f:\n",
    "            json.dump(results,f,indent=3)\n",
    "    return results"
   ]
  },
  {
   "cell_type": "markdown",
   "metadata": {
    "ExecuteTime": {
     "end_time": "2019-10-11T20:21:50.487519Z",
     "start_time": "2019-10-11T20:21:50.471519Z"
    }
   },
   "source": [
    "After understanding the keys and elements, it seemed like the most accurate route to gather information without having to look through every single car in the database (which would be extremely difficult, especially in terms of computing time) would be to look up a list of the best selling cars in the United States for 2019. Here, a car list is made with tuples of make and model for 10 vehicles that were listed as the best selling."
   ]
  },
  {
   "cell_type": "code",
   "execution_count": 3,
   "metadata": {
    "ExecuteTime": {
     "end_time": "2020-11-16T04:19:49.503793Z",
     "start_time": "2020-11-16T04:19:49.475794Z"
    }
   },
   "outputs": [
    {
     "data": {
      "text/plain": [
       "10"
      ]
     },
     "execution_count": 3,
     "metadata": {},
     "output_type": "execute_result"
    }
   ],
   "source": [
    "carlist = [('Toyota','Tacoma'),('Ford', 'Escape'), ('Honda','Civic'),\n",
    "        ('Toyota','Corolla'),('Toyota','Camry'),('Chevrolet', 'Equinox'),('Honda','CR-V'),\n",
    "        ('Chevrolet', 'Silverado'),('Honda','Accord'),('Nissan','Rogue')]\n",
    "len(carlist)"
   ]
  },
  {
   "cell_type": "markdown",
   "metadata": {},
   "source": [
    "Here, a dictionary is created that creates keys that are assigned to empty values. These values will be determined depending on how we access the information from each vehicle.\n",
    "\n",
    "Make and model is placed into a singular variable; car. From there, a for loop is used to loop through the years(2000-2019) and then the get_complaints method is utilized to access information from the API. Now, count the total number of complaints in the count variable. Additional variables are created; c_d is total number of deaths, c_i is total number of injured, c_abd is total number of air bag related deaths, and c_abi is total number of air bag related injuries. A loop is used to extract total number of injuries and deaths, and then for those complaints about airbags, injuries and deaths are also tallied. They are all appended to the dictionary into the values for the keys. \n",
    "\n",
    "This method is able to to loop through all ten cars and all iterations (years) of them and append them to the list. \n"
   ]
  },
  {
   "cell_type": "code",
   "execution_count": 4,
   "metadata": {
    "ExecuteTime": {
     "end_time": "2020-11-16T04:21:01.492495Z",
     "start_time": "2020-11-16T04:19:49.503793Z"
    }
   },
   "outputs": [],
   "source": [
    "data={'car':[], 'year':[], 'total':[], 'injured(all)':[], 'death(all)':[], 'airbag_death':[], 'airbag_injury':[]}\n",
    "for car in carlist:\n",
    "    make,model = car\n",
    "    for year in range(2000,2019):\n",
    "        d = get_complaints(make,model,year)\n",
    "        count = d['Count']\n",
    "        c_d,c_i =0,0\n",
    "        c_abd, c_abi =0,0\n",
    "        data['total'].append(count)\n",
    "        for result in d['Results']:\n",
    "            c_i += result['NumberOfInjured']\n",
    "            c_d += result['NumberOfDeaths']\n",
    "            if 'AIR BAGS' in result ['Component']:\n",
    "                c_abi += result['NumberOfInjured']\n",
    "                c_abd+= result['NumberOfDeaths']\n",
    "        data['injured(all)'].append(c_i)     \n",
    "        data['death(all)'].append(c_d)          \n",
    "        data['airbag_injury'].append(c_abi)     \n",
    "        data['airbag_death'].append(c_abd)"
   ]
  },
  {
   "cell_type": "markdown",
   "metadata": {},
   "source": [
    "Looping through the entire length of the carlist, and then through the range of years, the make model is appended to the car key as \"Make\" followed by whitespace followed by \"Model\". The year is also appended to the dictionary on the year key. "
   ]
  },
  {
   "cell_type": "code",
   "execution_count": 5,
   "metadata": {
    "ExecuteTime": {
     "end_time": "2020-11-16T04:21:01.508230Z",
     "start_time": "2020-11-16T04:21:01.492495Z"
    }
   },
   "outputs": [],
   "source": [
    "for i in range(len(carlist)):\n",
    "    for j in range(2000,2019):\n",
    "        data['car'].append(carlist[i][0]+ ' ' + carlist[i][1])\n",
    "        data['year'].append(j)\n",
    "        "
   ]
  },
  {
   "cell_type": "markdown",
   "metadata": {},
   "source": [
    "Here, the amount of values in each key is tested to see if the keys have a uniform amount of values. Otherwise, it will make it difficult to create graphs with altair. "
   ]
  },
  {
   "cell_type": "code",
   "execution_count": 6,
   "metadata": {
    "ExecuteTime": {
     "end_time": "2020-11-16T04:21:01.524262Z",
     "start_time": "2020-11-16T04:21:01.508230Z"
    },
    "scrolled": true
   },
   "outputs": [
    {
     "name": "stdout",
     "output_type": "stream",
     "text": [
      "car 190\n",
      "year 190\n",
      "total 190\n",
      "injured(all) 190\n",
      "death(all) 190\n",
      "airbag_death 190\n",
      "airbag_injury 190\n"
     ]
    }
   ],
   "source": [
    "for i in data.keys():\n",
    "    print(i, len(data[i]))"
   ]
  },
  {
   "cell_type": "code",
   "execution_count": 7,
   "metadata": {
    "ExecuteTime": {
     "end_time": "2020-11-16T04:21:03.352346Z",
     "start_time": "2020-11-16T04:21:01.524262Z"
    }
   },
   "outputs": [
    {
     "name": "stdout",
     "output_type": "stream",
     "text": [
      "the max amount of complaints is 727 in year 2006\n"
     ]
    }
   ],
   "source": [
    "test = {}\n",
    "for car in carlist:\n",
    "    make,model = car\n",
    "    for year in range(2000,2019):\n",
    "        d = get_complaints(make,model,year)\n",
    "        if year not in test.keys():\n",
    "            test[year] = d['Count']\n",
    "            \n",
    "test1 =  {v:k for k, v in test.items()}\n",
    "print(\"the max amount of complaints is {} in year {}\".format(max(test1), test1[max(test1)]))"
   ]
  },
  {
   "cell_type": "markdown",
   "metadata": {},
   "source": [
    "Using PD.Dataframe the data is placed into a chart and the information can be checked to see if it is accurate. Each vehicle is separated into car (make, model) and year, followed by total complaints, total injuries, total deaths, total airbag deaths, and total airbag injuries. "
   ]
  },
  {
   "cell_type": "code",
   "execution_count": 8,
   "metadata": {
    "ExecuteTime": {
     "end_time": "2020-11-16T04:21:03.386522Z",
     "start_time": "2020-11-16T04:21:03.352346Z"
    }
   },
   "outputs": [
    {
     "data": {
      "text/html": [
       "<div>\n",
       "<style scoped>\n",
       "    .dataframe tbody tr th:only-of-type {\n",
       "        vertical-align: middle;\n",
       "    }\n",
       "\n",
       "    .dataframe tbody tr th {\n",
       "        vertical-align: top;\n",
       "    }\n",
       "\n",
       "    .dataframe thead th {\n",
       "        text-align: right;\n",
       "    }\n",
       "</style>\n",
       "<table border=\"1\" class=\"dataframe\">\n",
       "  <thead>\n",
       "    <tr style=\"text-align: right;\">\n",
       "      <th></th>\n",
       "      <th>car</th>\n",
       "      <th>year</th>\n",
       "      <th>total</th>\n",
       "      <th>injured(all)</th>\n",
       "      <th>death(all)</th>\n",
       "      <th>airbag_death</th>\n",
       "      <th>airbag_injury</th>\n",
       "    </tr>\n",
       "  </thead>\n",
       "  <tbody>\n",
       "    <tr>\n",
       "      <th>0</th>\n",
       "      <td>Toyota Tacoma</td>\n",
       "      <td>2000</td>\n",
       "      <td>198</td>\n",
       "      <td>17</td>\n",
       "      <td>0</td>\n",
       "      <td>0</td>\n",
       "      <td>13</td>\n",
       "    </tr>\n",
       "    <tr>\n",
       "      <th>1</th>\n",
       "      <td>Toyota Tacoma</td>\n",
       "      <td>2001</td>\n",
       "      <td>394</td>\n",
       "      <td>36</td>\n",
       "      <td>4</td>\n",
       "      <td>0</td>\n",
       "      <td>15</td>\n",
       "    </tr>\n",
       "    <tr>\n",
       "      <th>2</th>\n",
       "      <td>Toyota Tacoma</td>\n",
       "      <td>2002</td>\n",
       "      <td>309</td>\n",
       "      <td>21</td>\n",
       "      <td>0</td>\n",
       "      <td>0</td>\n",
       "      <td>13</td>\n",
       "    </tr>\n",
       "    <tr>\n",
       "      <th>3</th>\n",
       "      <td>Toyota Tacoma</td>\n",
       "      <td>2003</td>\n",
       "      <td>328</td>\n",
       "      <td>17</td>\n",
       "      <td>0</td>\n",
       "      <td>0</td>\n",
       "      <td>13</td>\n",
       "    </tr>\n",
       "    <tr>\n",
       "      <th>4</th>\n",
       "      <td>Toyota Tacoma</td>\n",
       "      <td>2004</td>\n",
       "      <td>372</td>\n",
       "      <td>20</td>\n",
       "      <td>0</td>\n",
       "      <td>0</td>\n",
       "      <td>12</td>\n",
       "    </tr>\n",
       "    <tr>\n",
       "      <th>5</th>\n",
       "      <td>Toyota Tacoma</td>\n",
       "      <td>2005</td>\n",
       "      <td>675</td>\n",
       "      <td>16</td>\n",
       "      <td>0</td>\n",
       "      <td>0</td>\n",
       "      <td>2</td>\n",
       "    </tr>\n",
       "    <tr>\n",
       "      <th>6</th>\n",
       "      <td>Toyota Tacoma</td>\n",
       "      <td>2006</td>\n",
       "      <td>727</td>\n",
       "      <td>29</td>\n",
       "      <td>0</td>\n",
       "      <td>0</td>\n",
       "      <td>4</td>\n",
       "    </tr>\n",
       "    <tr>\n",
       "      <th>7</th>\n",
       "      <td>Toyota Tacoma</td>\n",
       "      <td>2007</td>\n",
       "      <td>483</td>\n",
       "      <td>29</td>\n",
       "      <td>2</td>\n",
       "      <td>0</td>\n",
       "      <td>6</td>\n",
       "    </tr>\n",
       "    <tr>\n",
       "      <th>8</th>\n",
       "      <td>Toyota Tacoma</td>\n",
       "      <td>2008</td>\n",
       "      <td>371</td>\n",
       "      <td>27</td>\n",
       "      <td>4</td>\n",
       "      <td>0</td>\n",
       "      <td>16</td>\n",
       "    </tr>\n",
       "    <tr>\n",
       "      <th>9</th>\n",
       "      <td>Toyota Tacoma</td>\n",
       "      <td>2009</td>\n",
       "      <td>462</td>\n",
       "      <td>1</td>\n",
       "      <td>0</td>\n",
       "      <td>0</td>\n",
       "      <td>0</td>\n",
       "    </tr>\n",
       "    <tr>\n",
       "      <th>10</th>\n",
       "      <td>Toyota Tacoma</td>\n",
       "      <td>2010</td>\n",
       "      <td>249</td>\n",
       "      <td>9</td>\n",
       "      <td>0</td>\n",
       "      <td>0</td>\n",
       "      <td>5</td>\n",
       "    </tr>\n",
       "    <tr>\n",
       "      <th>11</th>\n",
       "      <td>Toyota Tacoma</td>\n",
       "      <td>2011</td>\n",
       "      <td>154</td>\n",
       "      <td>6</td>\n",
       "      <td>2</td>\n",
       "      <td>1</td>\n",
       "      <td>3</td>\n",
       "    </tr>\n",
       "    <tr>\n",
       "      <th>12</th>\n",
       "      <td>Toyota Tacoma</td>\n",
       "      <td>2012</td>\n",
       "      <td>266</td>\n",
       "      <td>2</td>\n",
       "      <td>0</td>\n",
       "      <td>0</td>\n",
       "      <td>1</td>\n",
       "    </tr>\n",
       "    <tr>\n",
       "      <th>13</th>\n",
       "      <td>Toyota Tacoma</td>\n",
       "      <td>2013</td>\n",
       "      <td>99</td>\n",
       "      <td>5</td>\n",
       "      <td>0</td>\n",
       "      <td>0</td>\n",
       "      <td>5</td>\n",
       "    </tr>\n",
       "    <tr>\n",
       "      <th>14</th>\n",
       "      <td>Toyota Tacoma</td>\n",
       "      <td>2014</td>\n",
       "      <td>63</td>\n",
       "      <td>8</td>\n",
       "      <td>0</td>\n",
       "      <td>0</td>\n",
       "      <td>2</td>\n",
       "    </tr>\n",
       "    <tr>\n",
       "      <th>15</th>\n",
       "      <td>Toyota Tacoma</td>\n",
       "      <td>2015</td>\n",
       "      <td>64</td>\n",
       "      <td>7</td>\n",
       "      <td>0</td>\n",
       "      <td>0</td>\n",
       "      <td>4</td>\n",
       "    </tr>\n",
       "    <tr>\n",
       "      <th>16</th>\n",
       "      <td>Toyota Tacoma</td>\n",
       "      <td>2016</td>\n",
       "      <td>242</td>\n",
       "      <td>0</td>\n",
       "      <td>0</td>\n",
       "      <td>0</td>\n",
       "      <td>0</td>\n",
       "    </tr>\n",
       "    <tr>\n",
       "      <th>17</th>\n",
       "      <td>Toyota Tacoma</td>\n",
       "      <td>2017</td>\n",
       "      <td>143</td>\n",
       "      <td>5</td>\n",
       "      <td>0</td>\n",
       "      <td>0</td>\n",
       "      <td>5</td>\n",
       "    </tr>\n",
       "    <tr>\n",
       "      <th>18</th>\n",
       "      <td>Toyota Tacoma</td>\n",
       "      <td>2018</td>\n",
       "      <td>121</td>\n",
       "      <td>1</td>\n",
       "      <td>0</td>\n",
       "      <td>0</td>\n",
       "      <td>0</td>\n",
       "    </tr>\n",
       "    <tr>\n",
       "      <th>19</th>\n",
       "      <td>Ford Escape</td>\n",
       "      <td>2000</td>\n",
       "      <td>5</td>\n",
       "      <td>1</td>\n",
       "      <td>0</td>\n",
       "      <td>0</td>\n",
       "      <td>1</td>\n",
       "    </tr>\n",
       "    <tr>\n",
       "      <th>20</th>\n",
       "      <td>Ford Escape</td>\n",
       "      <td>2001</td>\n",
       "      <td>1011</td>\n",
       "      <td>75</td>\n",
       "      <td>3</td>\n",
       "      <td>1</td>\n",
       "      <td>28</td>\n",
       "    </tr>\n",
       "    <tr>\n",
       "      <th>21</th>\n",
       "      <td>Ford Escape</td>\n",
       "      <td>2002</td>\n",
       "      <td>1022</td>\n",
       "      <td>42</td>\n",
       "      <td>2</td>\n",
       "      <td>0</td>\n",
       "      <td>16</td>\n",
       "    </tr>\n",
       "    <tr>\n",
       "      <th>22</th>\n",
       "      <td>Ford Escape</td>\n",
       "      <td>2003</td>\n",
       "      <td>546</td>\n",
       "      <td>30</td>\n",
       "      <td>0</td>\n",
       "      <td>0</td>\n",
       "      <td>12</td>\n",
       "    </tr>\n",
       "    <tr>\n",
       "      <th>23</th>\n",
       "      <td>Ford Escape</td>\n",
       "      <td>2004</td>\n",
       "      <td>487</td>\n",
       "      <td>14</td>\n",
       "      <td>1</td>\n",
       "      <td>0</td>\n",
       "      <td>4</td>\n",
       "    </tr>\n",
       "    <tr>\n",
       "      <th>24</th>\n",
       "      <td>Ford Escape</td>\n",
       "      <td>2005</td>\n",
       "      <td>1358</td>\n",
       "      <td>27</td>\n",
       "      <td>2</td>\n",
       "      <td>1</td>\n",
       "      <td>15</td>\n",
       "    </tr>\n",
       "    <tr>\n",
       "      <th>25</th>\n",
       "      <td>Ford Escape</td>\n",
       "      <td>2006</td>\n",
       "      <td>437</td>\n",
       "      <td>24</td>\n",
       "      <td>2</td>\n",
       "      <td>2</td>\n",
       "      <td>16</td>\n",
       "    </tr>\n",
       "    <tr>\n",
       "      <th>26</th>\n",
       "      <td>Ford Escape</td>\n",
       "      <td>2007</td>\n",
       "      <td>231</td>\n",
       "      <td>9</td>\n",
       "      <td>2</td>\n",
       "      <td>1</td>\n",
       "      <td>5</td>\n",
       "    </tr>\n",
       "    <tr>\n",
       "      <th>27</th>\n",
       "      <td>Ford Escape</td>\n",
       "      <td>2008</td>\n",
       "      <td>1780</td>\n",
       "      <td>38</td>\n",
       "      <td>0</td>\n",
       "      <td>0</td>\n",
       "      <td>10</td>\n",
       "    </tr>\n",
       "    <tr>\n",
       "      <th>28</th>\n",
       "      <td>Ford Escape</td>\n",
       "      <td>2009</td>\n",
       "      <td>1374</td>\n",
       "      <td>12</td>\n",
       "      <td>0</td>\n",
       "      <td>0</td>\n",
       "      <td>3</td>\n",
       "    </tr>\n",
       "    <tr>\n",
       "      <th>29</th>\n",
       "      <td>Ford Escape</td>\n",
       "      <td>2010</td>\n",
       "      <td>1857</td>\n",
       "      <td>21</td>\n",
       "      <td>0</td>\n",
       "      <td>0</td>\n",
       "      <td>5</td>\n",
       "    </tr>\n",
       "    <tr>\n",
       "      <th>...</th>\n",
       "      <td>...</td>\n",
       "      <td>...</td>\n",
       "      <td>...</td>\n",
       "      <td>...</td>\n",
       "      <td>...</td>\n",
       "      <td>...</td>\n",
       "      <td>...</td>\n",
       "    </tr>\n",
       "    <tr>\n",
       "      <th>160</th>\n",
       "      <td>Honda Accord</td>\n",
       "      <td>2008</td>\n",
       "      <td>1470</td>\n",
       "      <td>63</td>\n",
       "      <td>1</td>\n",
       "      <td>1</td>\n",
       "      <td>51</td>\n",
       "    </tr>\n",
       "    <tr>\n",
       "      <th>161</th>\n",
       "      <td>Honda Accord</td>\n",
       "      <td>2009</td>\n",
       "      <td>674</td>\n",
       "      <td>45</td>\n",
       "      <td>2</td>\n",
       "      <td>2</td>\n",
       "      <td>35</td>\n",
       "    </tr>\n",
       "    <tr>\n",
       "      <th>162</th>\n",
       "      <td>Honda Accord</td>\n",
       "      <td>2010</td>\n",
       "      <td>526</td>\n",
       "      <td>42</td>\n",
       "      <td>1</td>\n",
       "      <td>0</td>\n",
       "      <td>27</td>\n",
       "    </tr>\n",
       "    <tr>\n",
       "      <th>163</th>\n",
       "      <td>Honda Accord</td>\n",
       "      <td>2011</td>\n",
       "      <td>251</td>\n",
       "      <td>27</td>\n",
       "      <td>0</td>\n",
       "      <td>0</td>\n",
       "      <td>18</td>\n",
       "    </tr>\n",
       "    <tr>\n",
       "      <th>164</th>\n",
       "      <td>Honda Accord</td>\n",
       "      <td>2012</td>\n",
       "      <td>310</td>\n",
       "      <td>42</td>\n",
       "      <td>1</td>\n",
       "      <td>0</td>\n",
       "      <td>15</td>\n",
       "    </tr>\n",
       "    <tr>\n",
       "      <th>165</th>\n",
       "      <td>Honda Accord</td>\n",
       "      <td>2013</td>\n",
       "      <td>911</td>\n",
       "      <td>48</td>\n",
       "      <td>0</td>\n",
       "      <td>0</td>\n",
       "      <td>11</td>\n",
       "    </tr>\n",
       "    <tr>\n",
       "      <th>166</th>\n",
       "      <td>Honda Accord</td>\n",
       "      <td>2014</td>\n",
       "      <td>592</td>\n",
       "      <td>39</td>\n",
       "      <td>0</td>\n",
       "      <td>0</td>\n",
       "      <td>12</td>\n",
       "    </tr>\n",
       "    <tr>\n",
       "      <th>167</th>\n",
       "      <td>Honda Accord</td>\n",
       "      <td>2015</td>\n",
       "      <td>377</td>\n",
       "      <td>22</td>\n",
       "      <td>0</td>\n",
       "      <td>0</td>\n",
       "      <td>13</td>\n",
       "    </tr>\n",
       "    <tr>\n",
       "      <th>168</th>\n",
       "      <td>Honda Accord</td>\n",
       "      <td>2016</td>\n",
       "      <td>324</td>\n",
       "      <td>19</td>\n",
       "      <td>0</td>\n",
       "      <td>0</td>\n",
       "      <td>3</td>\n",
       "    </tr>\n",
       "    <tr>\n",
       "      <th>169</th>\n",
       "      <td>Honda Accord</td>\n",
       "      <td>2017</td>\n",
       "      <td>204</td>\n",
       "      <td>13</td>\n",
       "      <td>0</td>\n",
       "      <td>0</td>\n",
       "      <td>6</td>\n",
       "    </tr>\n",
       "    <tr>\n",
       "      <th>170</th>\n",
       "      <td>Honda Accord</td>\n",
       "      <td>2018</td>\n",
       "      <td>387</td>\n",
       "      <td>12</td>\n",
       "      <td>0</td>\n",
       "      <td>0</td>\n",
       "      <td>2</td>\n",
       "    </tr>\n",
       "    <tr>\n",
       "      <th>171</th>\n",
       "      <td>Nissan Rogue</td>\n",
       "      <td>2000</td>\n",
       "      <td>0</td>\n",
       "      <td>0</td>\n",
       "      <td>0</td>\n",
       "      <td>0</td>\n",
       "      <td>0</td>\n",
       "    </tr>\n",
       "    <tr>\n",
       "      <th>172</th>\n",
       "      <td>Nissan Rogue</td>\n",
       "      <td>2001</td>\n",
       "      <td>0</td>\n",
       "      <td>0</td>\n",
       "      <td>0</td>\n",
       "      <td>0</td>\n",
       "      <td>0</td>\n",
       "    </tr>\n",
       "    <tr>\n",
       "      <th>173</th>\n",
       "      <td>Nissan Rogue</td>\n",
       "      <td>2002</td>\n",
       "      <td>0</td>\n",
       "      <td>0</td>\n",
       "      <td>0</td>\n",
       "      <td>0</td>\n",
       "      <td>0</td>\n",
       "    </tr>\n",
       "    <tr>\n",
       "      <th>174</th>\n",
       "      <td>Nissan Rogue</td>\n",
       "      <td>2003</td>\n",
       "      <td>0</td>\n",
       "      <td>0</td>\n",
       "      <td>0</td>\n",
       "      <td>0</td>\n",
       "      <td>0</td>\n",
       "    </tr>\n",
       "    <tr>\n",
       "      <th>175</th>\n",
       "      <td>Nissan Rogue</td>\n",
       "      <td>2004</td>\n",
       "      <td>0</td>\n",
       "      <td>0</td>\n",
       "      <td>0</td>\n",
       "      <td>0</td>\n",
       "      <td>0</td>\n",
       "    </tr>\n",
       "    <tr>\n",
       "      <th>176</th>\n",
       "      <td>Nissan Rogue</td>\n",
       "      <td>2005</td>\n",
       "      <td>0</td>\n",
       "      <td>0</td>\n",
       "      <td>0</td>\n",
       "      <td>0</td>\n",
       "      <td>0</td>\n",
       "    </tr>\n",
       "    <tr>\n",
       "      <th>177</th>\n",
       "      <td>Nissan Rogue</td>\n",
       "      <td>2006</td>\n",
       "      <td>0</td>\n",
       "      <td>0</td>\n",
       "      <td>0</td>\n",
       "      <td>0</td>\n",
       "      <td>0</td>\n",
       "    </tr>\n",
       "    <tr>\n",
       "      <th>178</th>\n",
       "      <td>Nissan Rogue</td>\n",
       "      <td>2007</td>\n",
       "      <td>1</td>\n",
       "      <td>0</td>\n",
       "      <td>0</td>\n",
       "      <td>0</td>\n",
       "      <td>0</td>\n",
       "    </tr>\n",
       "    <tr>\n",
       "      <th>179</th>\n",
       "      <td>Nissan Rogue</td>\n",
       "      <td>2008</td>\n",
       "      <td>385</td>\n",
       "      <td>4</td>\n",
       "      <td>0</td>\n",
       "      <td>0</td>\n",
       "      <td>3</td>\n",
       "    </tr>\n",
       "    <tr>\n",
       "      <th>180</th>\n",
       "      <td>Nissan Rogue</td>\n",
       "      <td>2009</td>\n",
       "      <td>292</td>\n",
       "      <td>1</td>\n",
       "      <td>0</td>\n",
       "      <td>0</td>\n",
       "      <td>0</td>\n",
       "    </tr>\n",
       "    <tr>\n",
       "      <th>181</th>\n",
       "      <td>Nissan Rogue</td>\n",
       "      <td>2010</td>\n",
       "      <td>252</td>\n",
       "      <td>7</td>\n",
       "      <td>0</td>\n",
       "      <td>0</td>\n",
       "      <td>5</td>\n",
       "    </tr>\n",
       "    <tr>\n",
       "      <th>182</th>\n",
       "      <td>Nissan Rogue</td>\n",
       "      <td>2011</td>\n",
       "      <td>307</td>\n",
       "      <td>5</td>\n",
       "      <td>0</td>\n",
       "      <td>0</td>\n",
       "      <td>2</td>\n",
       "    </tr>\n",
       "    <tr>\n",
       "      <th>183</th>\n",
       "      <td>Nissan Rogue</td>\n",
       "      <td>2012</td>\n",
       "      <td>242</td>\n",
       "      <td>7</td>\n",
       "      <td>0</td>\n",
       "      <td>0</td>\n",
       "      <td>6</td>\n",
       "    </tr>\n",
       "    <tr>\n",
       "      <th>184</th>\n",
       "      <td>Nissan Rogue</td>\n",
       "      <td>2013</td>\n",
       "      <td>430</td>\n",
       "      <td>7</td>\n",
       "      <td>1</td>\n",
       "      <td>1</td>\n",
       "      <td>7</td>\n",
       "    </tr>\n",
       "    <tr>\n",
       "      <th>185</th>\n",
       "      <td>Nissan Rogue</td>\n",
       "      <td>2014</td>\n",
       "      <td>282</td>\n",
       "      <td>14</td>\n",
       "      <td>0</td>\n",
       "      <td>0</td>\n",
       "      <td>6</td>\n",
       "    </tr>\n",
       "    <tr>\n",
       "      <th>186</th>\n",
       "      <td>Nissan Rogue</td>\n",
       "      <td>2015</td>\n",
       "      <td>263</td>\n",
       "      <td>31</td>\n",
       "      <td>0</td>\n",
       "      <td>0</td>\n",
       "      <td>12</td>\n",
       "    </tr>\n",
       "    <tr>\n",
       "      <th>187</th>\n",
       "      <td>Nissan Rogue</td>\n",
       "      <td>2016</td>\n",
       "      <td>198</td>\n",
       "      <td>25</td>\n",
       "      <td>3</td>\n",
       "      <td>0</td>\n",
       "      <td>19</td>\n",
       "    </tr>\n",
       "    <tr>\n",
       "      <th>188</th>\n",
       "      <td>Nissan Rogue</td>\n",
       "      <td>2017</td>\n",
       "      <td>257</td>\n",
       "      <td>30</td>\n",
       "      <td>0</td>\n",
       "      <td>0</td>\n",
       "      <td>14</td>\n",
       "    </tr>\n",
       "    <tr>\n",
       "      <th>189</th>\n",
       "      <td>Nissan Rogue</td>\n",
       "      <td>2018</td>\n",
       "      <td>358</td>\n",
       "      <td>25</td>\n",
       "      <td>0</td>\n",
       "      <td>0</td>\n",
       "      <td>5</td>\n",
       "    </tr>\n",
       "  </tbody>\n",
       "</table>\n",
       "<p>190 rows × 7 columns</p>\n",
       "</div>"
      ],
      "text/plain": [
       "               car  year  total  injured(all)  death(all)  airbag_death  \\\n",
       "0    Toyota Tacoma  2000    198            17           0             0   \n",
       "1    Toyota Tacoma  2001    394            36           4             0   \n",
       "2    Toyota Tacoma  2002    309            21           0             0   \n",
       "3    Toyota Tacoma  2003    328            17           0             0   \n",
       "4    Toyota Tacoma  2004    372            20           0             0   \n",
       "..             ...   ...    ...           ...         ...           ...   \n",
       "185   Nissan Rogue  2014    282            14           0             0   \n",
       "186   Nissan Rogue  2015    263            31           0             0   \n",
       "187   Nissan Rogue  2016    198            25           3             0   \n",
       "188   Nissan Rogue  2017    257            30           0             0   \n",
       "189   Nissan Rogue  2018    358            25           0             0   \n",
       "\n",
       "     airbag_injury  \n",
       "0               13  \n",
       "1               15  \n",
       "2               13  \n",
       "3               13  \n",
       "4               12  \n",
       "..             ...  \n",
       "185              6  \n",
       "186             12  \n",
       "187             19  \n",
       "188             14  \n",
       "189              5  \n",
       "\n",
       "[190 rows x 7 columns]"
      ]
     },
     "execution_count": 8,
     "metadata": {},
     "output_type": "execute_result"
    }
   ],
   "source": [
    "dataframe= pd.DataFrame.from_dict(data)\n",
    "dataframe\n"
   ]
  },
  {
   "cell_type": "markdown",
   "metadata": {},
   "source": [
    "# Graphs"
   ]
  },
  {
   "cell_type": "markdown",
   "metadata": {
    "ExecuteTime": {
     "end_time": "2019-10-12T04:18:27.295846Z",
     "start_time": "2019-10-12T04:18:26.212859Z"
    }
   },
   "source": [
    "Now we are using altair to graph the information that we have extracted and placed into the dictionary. Here, a graph is made with total injuries that occurred based on car and year and airbag injuries that occurred using the same criteria.        "
   ]
  },
  {
   "cell_type": "code",
   "execution_count": 9,
   "metadata": {
    "ExecuteTime": {
     "end_time": "2020-11-16T04:21:03.560586Z",
     "start_time": "2020-11-16T04:21:03.387660Z"
    }
   },
   "outputs": [
    {
     "data": {
      "application/javascript": [
       "const spec = {\"config\": {\"view\": {\"width\": 400, \"height\": 300}, \"mark\": {\"tooltip\": null}}, \"hconcat\": [{\"mark\": {\"type\": \"bar\", \"opacity\": 0.4}, \"encoding\": {\"color\": {\"type\": \"nominal\", \"field\": \"car\"}, \"x\": {\"type\": \"quantitative\", \"field\": \"year\"}, \"y\": {\"type\": \"quantitative\", \"field\": \"injured(all)\"}}, \"title\": \"Total Injuries\"}, {\"mark\": {\"type\": \"bar\", \"opacity\": 0.4}, \"encoding\": {\"color\": {\"type\": \"nominal\", \"field\": \"car\"}, \"x\": {\"type\": \"quantitative\", \"field\": \"year\"}, \"y\": {\"type\": \"quantitative\", \"field\": \"airbag_injury\", \"scale\": {\"domain\": [0, 180]}}}, \"title\": \"Airbag Injuries\"}], \"data\": {\"name\": \"data-37dd57b7f77930c378853c06865b31b5\"}, \"$schema\": \"https://vega.github.io/schema/vega-lite/v3.4.0.json\", \"datasets\": {\"data-37dd57b7f77930c378853c06865b31b5\": [{\"car\": \"Toyota Tacoma\", \"year\": 2000, \"total\": 198, \"injured(all)\": 17, \"death(all)\": 0, \"airbag_death\": 0, \"airbag_injury\": 13}, {\"car\": \"Toyota Tacoma\", \"year\": 2001, \"total\": 394, \"injured(all)\": 36, \"death(all)\": 4, \"airbag_death\": 0, \"airbag_injury\": 15}, {\"car\": \"Toyota Tacoma\", \"year\": 2002, \"total\": 309, \"injured(all)\": 21, \"death(all)\": 0, \"airbag_death\": 0, \"airbag_injury\": 13}, {\"car\": \"Toyota Tacoma\", \"year\": 2003, \"total\": 328, \"injured(all)\": 17, \"death(all)\": 0, \"airbag_death\": 0, \"airbag_injury\": 13}, {\"car\": \"Toyota Tacoma\", \"year\": 2004, \"total\": 372, \"injured(all)\": 20, \"death(all)\": 0, \"airbag_death\": 0, \"airbag_injury\": 12}, {\"car\": \"Toyota Tacoma\", \"year\": 2005, \"total\": 675, \"injured(all)\": 16, \"death(all)\": 0, \"airbag_death\": 0, \"airbag_injury\": 2}, {\"car\": \"Toyota Tacoma\", \"year\": 2006, \"total\": 727, \"injured(all)\": 29, \"death(all)\": 0, \"airbag_death\": 0, \"airbag_injury\": 4}, {\"car\": \"Toyota Tacoma\", \"year\": 2007, \"total\": 483, \"injured(all)\": 29, \"death(all)\": 2, \"airbag_death\": 0, \"airbag_injury\": 6}, {\"car\": \"Toyota Tacoma\", \"year\": 2008, \"total\": 371, \"injured(all)\": 27, \"death(all)\": 4, \"airbag_death\": 0, \"airbag_injury\": 16}, {\"car\": \"Toyota Tacoma\", \"year\": 2009, \"total\": 462, \"injured(all)\": 1, \"death(all)\": 0, \"airbag_death\": 0, \"airbag_injury\": 0}, {\"car\": \"Toyota Tacoma\", \"year\": 2010, \"total\": 249, \"injured(all)\": 9, \"death(all)\": 0, \"airbag_death\": 0, \"airbag_injury\": 5}, {\"car\": \"Toyota Tacoma\", \"year\": 2011, \"total\": 154, \"injured(all)\": 6, \"death(all)\": 2, \"airbag_death\": 1, \"airbag_injury\": 3}, {\"car\": \"Toyota Tacoma\", \"year\": 2012, \"total\": 266, \"injured(all)\": 2, \"death(all)\": 0, \"airbag_death\": 0, \"airbag_injury\": 1}, {\"car\": \"Toyota Tacoma\", \"year\": 2013, \"total\": 99, \"injured(all)\": 5, \"death(all)\": 0, \"airbag_death\": 0, \"airbag_injury\": 5}, {\"car\": \"Toyota Tacoma\", \"year\": 2014, \"total\": 63, \"injured(all)\": 8, \"death(all)\": 0, \"airbag_death\": 0, \"airbag_injury\": 2}, {\"car\": \"Toyota Tacoma\", \"year\": 2015, \"total\": 64, \"injured(all)\": 7, \"death(all)\": 0, \"airbag_death\": 0, \"airbag_injury\": 4}, {\"car\": \"Toyota Tacoma\", \"year\": 2016, \"total\": 242, \"injured(all)\": 0, \"death(all)\": 0, \"airbag_death\": 0, \"airbag_injury\": 0}, {\"car\": \"Toyota Tacoma\", \"year\": 2017, \"total\": 143, \"injured(all)\": 5, \"death(all)\": 0, \"airbag_death\": 0, \"airbag_injury\": 5}, {\"car\": \"Toyota Tacoma\", \"year\": 2018, \"total\": 121, \"injured(all)\": 1, \"death(all)\": 0, \"airbag_death\": 0, \"airbag_injury\": 0}, {\"car\": \"Ford Escape\", \"year\": 2000, \"total\": 5, \"injured(all)\": 1, \"death(all)\": 0, \"airbag_death\": 0, \"airbag_injury\": 1}, {\"car\": \"Ford Escape\", \"year\": 2001, \"total\": 1011, \"injured(all)\": 75, \"death(all)\": 3, \"airbag_death\": 1, \"airbag_injury\": 28}, {\"car\": \"Ford Escape\", \"year\": 2002, \"total\": 1022, \"injured(all)\": 42, \"death(all)\": 2, \"airbag_death\": 0, \"airbag_injury\": 16}, {\"car\": \"Ford Escape\", \"year\": 2003, \"total\": 546, \"injured(all)\": 30, \"death(all)\": 0, \"airbag_death\": 0, \"airbag_injury\": 12}, {\"car\": \"Ford Escape\", \"year\": 2004, \"total\": 487, \"injured(all)\": 14, \"death(all)\": 1, \"airbag_death\": 0, \"airbag_injury\": 4}, {\"car\": \"Ford Escape\", \"year\": 2005, \"total\": 1358, \"injured(all)\": 27, \"death(all)\": 2, \"airbag_death\": 1, \"airbag_injury\": 15}, {\"car\": \"Ford Escape\", \"year\": 2006, \"total\": 437, \"injured(all)\": 24, \"death(all)\": 2, \"airbag_death\": 2, \"airbag_injury\": 16}, {\"car\": \"Ford Escape\", \"year\": 2007, \"total\": 231, \"injured(all)\": 9, \"death(all)\": 2, \"airbag_death\": 1, \"airbag_injury\": 5}, {\"car\": \"Ford Escape\", \"year\": 2008, \"total\": 1780, \"injured(all)\": 38, \"death(all)\": 0, \"airbag_death\": 0, \"airbag_injury\": 10}, {\"car\": \"Ford Escape\", \"year\": 2009, \"total\": 1374, \"injured(all)\": 12, \"death(all)\": 0, \"airbag_death\": 0, \"airbag_injury\": 3}, {\"car\": \"Ford Escape\", \"year\": 2010, \"total\": 1857, \"injured(all)\": 21, \"death(all)\": 0, \"airbag_death\": 0, \"airbag_injury\": 5}, {\"car\": \"Ford Escape\", \"year\": 2011, \"total\": 1044, \"injured(all)\": 36, \"death(all)\": 0, \"airbag_death\": 0, \"airbag_injury\": 23}, {\"car\": \"Ford Escape\", \"year\": 2012, \"total\": 468, \"injured(all)\": 22, \"death(all)\": 0, \"airbag_death\": 0, \"airbag_injury\": 16}, {\"car\": \"Ford Escape\", \"year\": 2013, \"total\": 1751, \"injured(all)\": 38, \"death(all)\": 0, \"airbag_death\": 0, \"airbag_injury\": 7}, {\"car\": \"Ford Escape\", \"year\": 2014, \"total\": 1088, \"injured(all)\": 26, \"death(all)\": 0, \"airbag_death\": 0, \"airbag_injury\": 12}, {\"car\": \"Ford Escape\", \"year\": 2015, \"total\": 354, \"injured(all)\": 22, \"death(all)\": 0, \"airbag_death\": 0, \"airbag_injury\": 10}, {\"car\": \"Ford Escape\", \"year\": 2016, \"total\": 294, \"injured(all)\": 8, \"death(all)\": 0, \"airbag_death\": 0, \"airbag_injury\": 6}, {\"car\": \"Ford Escape\", \"year\": 2017, \"total\": 329, \"injured(all)\": 44, \"death(all)\": 0, \"airbag_death\": 0, \"airbag_injury\": 22}, {\"car\": \"Ford Escape\", \"year\": 2018, \"total\": 104, \"injured(all)\": 10, \"death(all)\": 0, \"airbag_death\": 0, \"airbag_injury\": 0}, {\"car\": \"Honda Civic\", \"year\": 2000, \"total\": 281, \"injured(all)\": 44, \"death(all)\": 0, \"airbag_death\": 0, \"airbag_injury\": 38}, {\"car\": \"Honda Civic\", \"year\": 2001, \"total\": 1088, \"injured(all)\": 132, \"death(all)\": 6, \"airbag_death\": 5, \"airbag_injury\": 114}, {\"car\": \"Honda Civic\", \"year\": 2002, \"total\": 680, \"injured(all)\": 99, \"death(all)\": 2, \"airbag_death\": 2, \"airbag_injury\": 76}, {\"car\": \"Honda Civic\", \"year\": 2003, \"total\": 480, \"injured(all)\": 63, \"death(all)\": 12, \"airbag_death\": 0, \"airbag_injury\": 44}, {\"car\": \"Honda Civic\", \"year\": 2004, \"total\": 340, \"injured(all)\": 35, \"death(all)\": 1, \"airbag_death\": 1, \"airbag_injury\": 24}, {\"car\": \"Honda Civic\", \"year\": 2005, \"total\": 293, \"injured(all)\": 65, \"death(all)\": 2, \"airbag_death\": 0, \"airbag_injury\": 52}, {\"car\": \"Honda Civic\", \"year\": 2006, \"total\": 1354, \"injured(all)\": 65, \"death(all)\": 3, \"airbag_death\": 0, \"airbag_injury\": 46}, {\"car\": \"Honda Civic\", \"year\": 2007, \"total\": 1158, \"injured(all)\": 70, \"death(all)\": 10, \"airbag_death\": 0, \"airbag_injury\": 23}, {\"car\": \"Honda Civic\", \"year\": 2008, \"total\": 849, \"injured(all)\": 44, \"death(all)\": 0, \"airbag_death\": 0, \"airbag_injury\": 36}, {\"car\": \"Honda Civic\", \"year\": 2009, \"total\": 369, \"injured(all)\": 33, \"death(all)\": 0, \"airbag_death\": 0, \"airbag_injury\": 24}, {\"car\": \"Honda Civic\", \"year\": 2010, \"total\": 361, \"injured(all)\": 26, \"death(all)\": 47, \"airbag_death\": 0, \"airbag_injury\": 15}, {\"car\": \"Honda Civic\", \"year\": 2011, \"total\": 154, \"injured(all)\": 16, \"death(all)\": 0, \"airbag_death\": 0, \"airbag_injury\": 15}, {\"car\": \"Honda Civic\", \"year\": 2012, \"total\": 363, \"injured(all)\": 35, \"death(all)\": 0, \"airbag_death\": 0, \"airbag_injury\": 21}, {\"car\": \"Honda Civic\", \"year\": 2013, \"total\": 228, \"injured(all)\": 23, \"death(all)\": 0, \"airbag_death\": 0, \"airbag_injury\": 13}, {\"car\": \"Honda Civic\", \"year\": 2014, \"total\": 185, \"injured(all)\": 20, \"death(all)\": 0, \"airbag_death\": 0, \"airbag_injury\": 15}, {\"car\": \"Honda Civic\", \"year\": 2015, \"total\": 177, \"injured(all)\": 18, \"death(all)\": 0, \"airbag_death\": 0, \"airbag_injury\": 14}, {\"car\": \"Honda Civic\", \"year\": 2016, \"total\": 523, \"injured(all)\": 11, \"death(all)\": 0, \"airbag_death\": 0, \"airbag_injury\": 8}, {\"car\": \"Honda Civic\", \"year\": 2017, \"total\": 200, \"injured(all)\": 7, \"death(all)\": 0, \"airbag_death\": 0, \"airbag_injury\": 4}, {\"car\": \"Honda Civic\", \"year\": 2018, \"total\": 103, \"injured(all)\": 8, \"death(all)\": 1, \"airbag_death\": 0, \"airbag_injury\": 4}, {\"car\": \"Toyota Corolla\", \"year\": 2000, \"total\": 144, \"injured(all)\": 18, \"death(all)\": 1, \"airbag_death\": 0, \"airbag_injury\": 11}, {\"car\": \"Toyota Corolla\", \"year\": 2001, \"total\": 132, \"injured(all)\": 58, \"death(all)\": 0, \"airbag_death\": 0, \"airbag_injury\": 44}, {\"car\": \"Toyota Corolla\", \"year\": 2002, \"total\": 119, \"injured(all)\": 21, \"death(all)\": 0, \"airbag_death\": 0, \"airbag_injury\": 16}, {\"car\": \"Toyota Corolla\", \"year\": 2003, \"total\": 697, \"injured(all)\": 86, \"death(all)\": 1, \"airbag_death\": 0, \"airbag_injury\": 57}, {\"car\": \"Toyota Corolla\", \"year\": 2004, \"total\": 463, \"injured(all)\": 56, \"death(all)\": 4, \"airbag_death\": 0, \"airbag_injury\": 39}, {\"car\": \"Toyota Corolla\", \"year\": 2005, \"total\": 828, \"injured(all)\": 89, \"death(all)\": 1, \"airbag_death\": 0, \"airbag_injury\": 57}, {\"car\": \"Toyota Corolla\", \"year\": 2006, \"total\": 824, \"injured(all)\": 82, \"death(all)\": 0, \"airbag_death\": 0, \"airbag_injury\": 43}, {\"car\": \"Toyota Corolla\", \"year\": 2007, \"total\": 811, \"injured(all)\": 80, \"death(all)\": 3, \"airbag_death\": 2, \"airbag_injury\": 45}, {\"car\": \"Toyota Corolla\", \"year\": 2008, \"total\": 302, \"injured(all)\": 43, \"death(all)\": 1, \"airbag_death\": 0, \"airbag_injury\": 25}, {\"car\": \"Toyota Corolla\", \"year\": 2009, \"total\": 1434, \"injured(all)\": 104, \"death(all)\": 2, \"airbag_death\": 1, \"airbag_injury\": 49}, {\"car\": \"Toyota Corolla\", \"year\": 2010, \"total\": 1207, \"injured(all)\": 97, \"death(all)\": 0, \"airbag_death\": 0, \"airbag_injury\": 41}, {\"car\": \"Toyota Corolla\", \"year\": 2011, \"total\": 561, \"injured(all)\": 33, \"death(all)\": 0, \"airbag_death\": 0, \"airbag_injury\": 27}, {\"car\": \"Toyota Corolla\", \"year\": 2012, \"total\": 416, \"injured(all)\": 21, \"death(all)\": 0, \"airbag_death\": 0, \"airbag_injury\": 14}, {\"car\": \"Toyota Corolla\", \"year\": 2013, \"total\": 179, \"injured(all)\": 51, \"death(all)\": 0, \"airbag_death\": 0, \"airbag_injury\": 36}, {\"car\": \"Toyota Corolla\", \"year\": 2014, \"total\": 215, \"injured(all)\": 35, \"death(all)\": 1, \"airbag_death\": 1, \"airbag_injury\": 25}, {\"car\": \"Toyota Corolla\", \"year\": 2015, \"total\": 161, \"injured(all)\": 38, \"death(all)\": 0, \"airbag_death\": 0, \"airbag_injury\": 30}, {\"car\": \"Toyota Corolla\", \"year\": 2016, \"total\": 167, \"injured(all)\": 43, \"death(all)\": 0, \"airbag_death\": 0, \"airbag_injury\": 35}, {\"car\": \"Toyota Corolla\", \"year\": 2017, \"total\": 116, \"injured(all)\": 20, \"death(all)\": 0, \"airbag_death\": 0, \"airbag_injury\": 16}, {\"car\": \"Toyota Corolla\", \"year\": 2018, \"total\": 82, \"injured(all)\": 12, \"death(all)\": 1, \"airbag_death\": 1, \"airbag_injury\": 7}, {\"car\": \"Toyota Camry\", \"year\": 2000, \"total\": 450, \"injured(all)\": 84, \"death(all)\": 3, \"airbag_death\": 2, \"airbag_injury\": 44}, {\"car\": \"Toyota Camry\", \"year\": 2001, \"total\": 270, \"injured(all)\": 58, \"death(all)\": 3, \"airbag_death\": 2, \"airbag_injury\": 23}, {\"car\": \"Toyota Camry\", \"year\": 2002, \"total\": 941, \"injured(all)\": 131, \"death(all)\": 11, \"airbag_death\": 3, \"airbag_injury\": 47}, {\"car\": \"Toyota Camry\", \"year\": 2003, \"total\": 763, \"injured(all)\": 105, \"death(all)\": 5, \"airbag_death\": 0, \"airbag_injury\": 45}, {\"car\": \"Toyota Camry\", \"year\": 2004, \"total\": 627, \"injured(all)\": 131, \"death(all)\": 5, \"airbag_death\": 1, \"airbag_injury\": 51}, {\"car\": \"Toyota Camry\", \"year\": 2005, \"total\": 707, \"injured(all)\": 125, \"death(all)\": 6, \"airbag_death\": 0, \"airbag_injury\": 48}, {\"car\": \"Toyota Camry\", \"year\": 2006, \"total\": 306, \"injured(all)\": 65, \"death(all)\": 2, \"airbag_death\": 0, \"airbag_injury\": 20}, {\"car\": \"Toyota Camry\", \"year\": 2007, \"total\": 2762, \"injured(all)\": 170, \"death(all)\": 4, \"airbag_death\": 1, \"airbag_injury\": 81}, {\"car\": \"Toyota Camry\", \"year\": 2008, \"total\": 874, \"injured(all)\": 58, \"death(all)\": 0, \"airbag_death\": 0, \"airbag_injury\": 30}, {\"car\": \"Toyota Camry\", \"year\": 2009, \"total\": 1192, \"injured(all)\": 80, \"death(all)\": 2, \"airbag_death\": 0, \"airbag_injury\": 31}, {\"car\": \"Toyota Camry\", \"year\": 2010, \"total\": 555, \"injured(all)\": 55, \"death(all)\": 0, \"airbag_death\": 0, \"airbag_injury\": 38}, {\"car\": \"Toyota Camry\", \"year\": 2011, \"total\": 511, \"injured(all)\": 75, \"death(all)\": 0, \"airbag_death\": 0, \"airbag_injury\": 38}, {\"car\": \"Toyota Camry\", \"year\": 2012, \"total\": 458, \"injured(all)\": 60, \"death(all)\": 0, \"airbag_death\": 0, \"airbag_injury\": 40}, {\"car\": \"Toyota Camry\", \"year\": 2013, \"total\": 218, \"injured(all)\": 27, \"death(all)\": 1, \"airbag_death\": 0, \"airbag_injury\": 18}, {\"car\": \"Toyota Camry\", \"year\": 2014, \"total\": 315, \"injured(all)\": 32, \"death(all)\": 0, \"airbag_death\": 0, \"airbag_injury\": 21}, {\"car\": \"Toyota Camry\", \"year\": 2015, \"total\": 204, \"injured(all)\": 10, \"death(all)\": 1, \"airbag_death\": 1, \"airbag_injury\": 9}, {\"car\": \"Toyota Camry\", \"year\": 2016, \"total\": 118, \"injured(all)\": 28, \"death(all)\": 0, \"airbag_death\": 0, \"airbag_injury\": 20}, {\"car\": \"Toyota Camry\", \"year\": 2017, \"total\": 83, \"injured(all)\": 17, \"death(all)\": 0, \"airbag_death\": 0, \"airbag_injury\": 8}, {\"car\": \"Toyota Camry\", \"year\": 2018, \"total\": 293, \"injured(all)\": 11, \"death(all)\": 0, \"airbag_death\": 0, \"airbag_injury\": 7}, {\"car\": \"Chevrolet Equinox\", \"year\": 2000, \"total\": 0, \"injured(all)\": 0, \"death(all)\": 0, \"airbag_death\": 0, \"airbag_injury\": 0}, {\"car\": \"Chevrolet Equinox\", \"year\": 2001, \"total\": 0, \"injured(all)\": 0, \"death(all)\": 0, \"airbag_death\": 0, \"airbag_injury\": 0}, {\"car\": \"Chevrolet Equinox\", \"year\": 2002, \"total\": 0, \"injured(all)\": 0, \"death(all)\": 0, \"airbag_death\": 0, \"airbag_injury\": 0}, {\"car\": \"Chevrolet Equinox\", \"year\": 2003, \"total\": 0, \"injured(all)\": 0, \"death(all)\": 0, \"airbag_death\": 0, \"airbag_injury\": 0}, {\"car\": \"Chevrolet Equinox\", \"year\": 2004, \"total\": 0, \"injured(all)\": 0, \"death(all)\": 0, \"airbag_death\": 0, \"airbag_injury\": 0}, {\"car\": \"Chevrolet Equinox\", \"year\": 2005, \"total\": 620, \"injured(all)\": 39, \"death(all)\": 0, \"airbag_death\": 0, \"airbag_injury\": 23}, {\"car\": \"Chevrolet Equinox\", \"year\": 2006, \"total\": 686, \"injured(all)\": 20, \"death(all)\": 1, \"airbag_death\": 1, \"airbag_injury\": 13}, {\"car\": \"Chevrolet Equinox\", \"year\": 2007, \"total\": 665, \"injured(all)\": 17, \"death(all)\": 0, \"airbag_death\": 0, \"airbag_injury\": 10}, {\"car\": \"Chevrolet Equinox\", \"year\": 2008, \"total\": 352, \"injured(all)\": 12, \"death(all)\": 0, \"airbag_death\": 0, \"airbag_injury\": 8}, {\"car\": \"Chevrolet Equinox\", \"year\": 2009, \"total\": 90, \"injured(all)\": 6, \"death(all)\": 0, \"airbag_death\": 0, \"airbag_injury\": 2}, {\"car\": \"Chevrolet Equinox\", \"year\": 2010, \"total\": 714, \"injured(all)\": 20, \"death(all)\": 0, \"airbag_death\": 0, \"airbag_injury\": 12}, {\"car\": \"Chevrolet Equinox\", \"year\": 2011, \"total\": 650, \"injured(all)\": 42, \"death(all)\": 2, \"airbag_death\": 0, \"airbag_injury\": 12}, {\"car\": \"Chevrolet Equinox\", \"year\": 2012, \"total\": 528, \"injured(all)\": 13, \"death(all)\": 0, \"airbag_death\": 0, \"airbag_injury\": 6}, {\"car\": \"Chevrolet Equinox\", \"year\": 2013, \"total\": 530, \"injured(all)\": 14, \"death(all)\": 0, \"airbag_death\": 0, \"airbag_injury\": 6}, {\"car\": \"Chevrolet Equinox\", \"year\": 2014, \"total\": 322, \"injured(all)\": 8, \"death(all)\": 0, \"airbag_death\": 0, \"airbag_injury\": 6}, {\"car\": \"Chevrolet Equinox\", \"year\": 2015, \"total\": 354, \"injured(all)\": 15, \"death(all)\": 0, \"airbag_death\": 0, \"airbag_injury\": 13}, {\"car\": \"Chevrolet Equinox\", \"year\": 2016, \"total\": 121, \"injured(all)\": 17, \"death(all)\": 0, \"airbag_death\": 0, \"airbag_injury\": 5}, {\"car\": \"Chevrolet Equinox\", \"year\": 2017, \"total\": 45, \"injured(all)\": 5, \"death(all)\": 0, \"airbag_death\": 0, \"airbag_injury\": 5}, {\"car\": \"Chevrolet Equinox\", \"year\": 2018, \"total\": 142, \"injured(all)\": 18, \"death(all)\": 0, \"airbag_death\": 0, \"airbag_injury\": 7}, {\"car\": \"Honda CR-V\", \"year\": 2000, \"total\": 125, \"injured(all)\": 8, \"death(all)\": 1, \"airbag_death\": 0, \"airbag_injury\": 1}, {\"car\": \"Honda CR-V\", \"year\": 2001, \"total\": 135, \"injured(all)\": 9, \"death(all)\": 1, \"airbag_death\": 1, \"airbag_injury\": 4}, {\"car\": \"Honda CR-V\", \"year\": 2002, \"total\": 500, \"injured(all)\": 48, \"death(all)\": 0, \"airbag_death\": 0, \"airbag_injury\": 33}, {\"car\": \"Honda CR-V\", \"year\": 2003, \"total\": 449, \"injured(all)\": 36, \"death(all)\": 0, \"airbag_death\": 0, \"airbag_injury\": 29}, {\"car\": \"Honda CR-V\", \"year\": 2004, \"total\": 478, \"injured(all)\": 31, \"death(all)\": 0, \"airbag_death\": 0, \"airbag_injury\": 16}, {\"car\": \"Honda CR-V\", \"year\": 2005, \"total\": 448, \"injured(all)\": 29, \"death(all)\": 0, \"airbag_death\": 0, \"airbag_injury\": 25}, {\"car\": \"Honda CR-V\", \"year\": 2006, \"total\": 366, \"injured(all)\": 22, \"death(all)\": 0, \"airbag_death\": 0, \"airbag_injury\": 12}, {\"car\": \"Honda CR-V\", \"year\": 2007, \"total\": 801, \"injured(all)\": 22, \"death(all)\": 1, \"airbag_death\": 1, \"airbag_injury\": 14}, {\"car\": \"Honda CR-V\", \"year\": 2008, \"total\": 859, \"injured(all)\": 38, \"death(all)\": 0, \"airbag_death\": 0, \"airbag_injury\": 26}, {\"car\": \"Honda CR-V\", \"year\": 2009, \"total\": 328, \"injured(all)\": 15, \"death(all)\": 0, \"airbag_death\": 0, \"airbag_injury\": 13}, {\"car\": \"Honda CR-V\", \"year\": 2010, \"total\": 398, \"injured(all)\": 13, \"death(all)\": 0, \"airbag_death\": 0, \"airbag_injury\": 7}, {\"car\": \"Honda CR-V\", \"year\": 2011, \"total\": 448, \"injured(all)\": 9, \"death(all)\": 0, \"airbag_death\": 0, \"airbag_injury\": 4}, {\"car\": \"Honda CR-V\", \"year\": 2012, \"total\": 309, \"injured(all)\": 22, \"death(all)\": 0, \"airbag_death\": 0, \"airbag_injury\": 9}, {\"car\": \"Honda CR-V\", \"year\": 2013, \"total\": 310, \"injured(all)\": 10, \"death(all)\": 0, \"airbag_death\": 0, \"airbag_injury\": 4}, {\"car\": \"Honda CR-V\", \"year\": 2014, \"total\": 456, \"injured(all)\": 26, \"death(all)\": 3, \"airbag_death\": 2, \"airbag_injury\": 17}, {\"car\": \"Honda CR-V\", \"year\": 2015, \"total\": 522, \"injured(all)\": 17, \"death(all)\": 0, \"airbag_death\": 0, \"airbag_injury\": 10}, {\"car\": \"Honda CR-V\", \"year\": 2016, \"total\": 234, \"injured(all)\": 25, \"death(all)\": 0, \"airbag_death\": 0, \"airbag_injury\": 12}, {\"car\": \"Honda CR-V\", \"year\": 2017, \"total\": 937, \"injured(all)\": 22, \"death(all)\": 0, \"airbag_death\": 0, \"airbag_injury\": 8}, {\"car\": \"Honda CR-V\", \"year\": 2018, \"total\": 687, \"injured(all)\": 24, \"death(all)\": 0, \"airbag_death\": 0, \"airbag_injury\": 9}, {\"car\": \"Chevrolet Silverado\", \"year\": 2000, \"total\": 1314, \"injured(all)\": 89, \"death(all)\": 2, \"airbag_death\": 1, \"airbag_injury\": 51}, {\"car\": \"Chevrolet Silverado\", \"year\": 2001, \"total\": 884, \"injured(all)\": 77, \"death(all)\": 3, \"airbag_death\": 3, \"airbag_injury\": 40}, {\"car\": \"Chevrolet Silverado\", \"year\": 2002, \"total\": 711, \"injured(all)\": 47, \"death(all)\": 1, \"airbag_death\": 0, \"airbag_injury\": 24}, {\"car\": \"Chevrolet Silverado\", \"year\": 2003, \"total\": 695, \"injured(all)\": 26, \"death(all)\": 2, \"airbag_death\": 1, \"airbag_injury\": 13}, {\"car\": \"Chevrolet Silverado\", \"year\": 2004, \"total\": 621, \"injured(all)\": 35, \"death(all)\": 3, \"airbag_death\": 1, \"airbag_injury\": 19}, {\"car\": \"Chevrolet Silverado\", \"year\": 2005, \"total\": 315, \"injured(all)\": 9, \"death(all)\": 0, \"airbag_death\": 0, \"airbag_injury\": 5}, {\"car\": \"Chevrolet Silverado\", \"year\": 2006, \"total\": 181, \"injured(all)\": 2, \"death(all)\": 5, \"airbag_death\": 2, \"airbag_injury\": 2}, {\"car\": \"Chevrolet Silverado\", \"year\": 2007, \"total\": 180, \"injured(all)\": 14, \"death(all)\": 1, \"airbag_death\": 1, \"airbag_injury\": 12}, {\"car\": \"Chevrolet Silverado\", \"year\": 2008, \"total\": 153, \"injured(all)\": 13, \"death(all)\": 1, \"airbag_death\": 1, \"airbag_injury\": 11}, {\"car\": \"Chevrolet Silverado\", \"year\": 2009, \"total\": 72, \"injured(all)\": 3, \"death(all)\": 1, \"airbag_death\": 0, \"airbag_injury\": 3}, {\"car\": \"Chevrolet Silverado\", \"year\": 2010, \"total\": 60, \"injured(all)\": 1, \"death(all)\": 0, \"airbag_death\": 0, \"airbag_injury\": 1}, {\"car\": \"Chevrolet Silverado\", \"year\": 2011, \"total\": 73, \"injured(all)\": 9, \"death(all)\": 0, \"airbag_death\": 0, \"airbag_injury\": 8}, {\"car\": \"Chevrolet Silverado\", \"year\": 2012, \"total\": 65, \"injured(all)\": 7, \"death(all)\": 0, \"airbag_death\": 0, \"airbag_injury\": 3}, {\"car\": \"Chevrolet Silverado\", \"year\": 2013, \"total\": 61, \"injured(all)\": 5, \"death(all)\": 0, \"airbag_death\": 0, \"airbag_injury\": 1}, {\"car\": \"Chevrolet Silverado\", \"year\": 2014, \"total\": 122, \"injured(all)\": 9, \"death(all)\": 0, \"airbag_death\": 0, \"airbag_injury\": 3}, {\"car\": \"Chevrolet Silverado\", \"year\": 2015, \"total\": 61, \"injured(all)\": 6, \"death(all)\": 0, \"airbag_death\": 0, \"airbag_injury\": 4}, {\"car\": \"Chevrolet Silverado\", \"year\": 2016, \"total\": 3, \"injured(all)\": 0, \"death(all)\": 0, \"airbag_death\": 0, \"airbag_injury\": 0}, {\"car\": \"Chevrolet Silverado\", \"year\": 2017, \"total\": 129, \"injured(all)\": 4, \"death(all)\": 0, \"airbag_death\": 0, \"airbag_injury\": 1}, {\"car\": \"Chevrolet Silverado\", \"year\": 2018, \"total\": 0, \"injured(all)\": 0, \"death(all)\": 0, \"airbag_death\": 0, \"airbag_injury\": 0}, {\"car\": \"Honda Accord\", \"year\": 2000, \"total\": 1172, \"injured(all)\": 69, \"death(all)\": 2, \"airbag_death\": 1, \"airbag_injury\": 43}, {\"car\": \"Honda Accord\", \"year\": 2001, \"total\": 899, \"injured(all)\": 115, \"death(all)\": 2, \"airbag_death\": 2, \"airbag_injury\": 82}, {\"car\": \"Honda Accord\", \"year\": 2002, \"total\": 1030, \"injured(all)\": 95, \"death(all)\": 3, \"airbag_death\": 2, \"airbag_injury\": 74}, {\"car\": \"Honda Accord\", \"year\": 2003, \"total\": 1941, \"injured(all)\": 140, \"death(all)\": 1, \"airbag_death\": 0, \"airbag_injury\": 99}, {\"car\": \"Honda Accord\", \"year\": 2004, \"total\": 977, \"injured(all)\": 69, \"death(all)\": 2, \"airbag_death\": 2, \"airbag_injury\": 44}, {\"car\": \"Honda Accord\", \"year\": 2005, \"total\": 635, \"injured(all)\": 88, \"death(all)\": 3, \"airbag_death\": 0, \"airbag_injury\": 56}, {\"car\": \"Honda Accord\", \"year\": 2006, \"total\": 401, \"injured(all)\": 38, \"death(all)\": 4, \"airbag_death\": 1, \"airbag_injury\": 28}, {\"car\": \"Honda Accord\", \"year\": 2007, \"total\": 468, \"injured(all)\": 76, \"death(all)\": 2, \"airbag_death\": 1, \"airbag_injury\": 56}, {\"car\": \"Honda Accord\", \"year\": 2008, \"total\": 1470, \"injured(all)\": 63, \"death(all)\": 1, \"airbag_death\": 1, \"airbag_injury\": 51}, {\"car\": \"Honda Accord\", \"year\": 2009, \"total\": 674, \"injured(all)\": 45, \"death(all)\": 2, \"airbag_death\": 2, \"airbag_injury\": 35}, {\"car\": \"Honda Accord\", \"year\": 2010, \"total\": 526, \"injured(all)\": 42, \"death(all)\": 1, \"airbag_death\": 0, \"airbag_injury\": 27}, {\"car\": \"Honda Accord\", \"year\": 2011, \"total\": 251, \"injured(all)\": 27, \"death(all)\": 0, \"airbag_death\": 0, \"airbag_injury\": 18}, {\"car\": \"Honda Accord\", \"year\": 2012, \"total\": 310, \"injured(all)\": 42, \"death(all)\": 1, \"airbag_death\": 0, \"airbag_injury\": 15}, {\"car\": \"Honda Accord\", \"year\": 2013, \"total\": 911, \"injured(all)\": 48, \"death(all)\": 0, \"airbag_death\": 0, \"airbag_injury\": 11}, {\"car\": \"Honda Accord\", \"year\": 2014, \"total\": 592, \"injured(all)\": 39, \"death(all)\": 0, \"airbag_death\": 0, \"airbag_injury\": 12}, {\"car\": \"Honda Accord\", \"year\": 2015, \"total\": 377, \"injured(all)\": 22, \"death(all)\": 0, \"airbag_death\": 0, \"airbag_injury\": 13}, {\"car\": \"Honda Accord\", \"year\": 2016, \"total\": 324, \"injured(all)\": 19, \"death(all)\": 0, \"airbag_death\": 0, \"airbag_injury\": 3}, {\"car\": \"Honda Accord\", \"year\": 2017, \"total\": 204, \"injured(all)\": 13, \"death(all)\": 0, \"airbag_death\": 0, \"airbag_injury\": 6}, {\"car\": \"Honda Accord\", \"year\": 2018, \"total\": 387, \"injured(all)\": 12, \"death(all)\": 0, \"airbag_death\": 0, \"airbag_injury\": 2}, {\"car\": \"Nissan Rogue\", \"year\": 2000, \"total\": 0, \"injured(all)\": 0, \"death(all)\": 0, \"airbag_death\": 0, \"airbag_injury\": 0}, {\"car\": \"Nissan Rogue\", \"year\": 2001, \"total\": 0, \"injured(all)\": 0, \"death(all)\": 0, \"airbag_death\": 0, \"airbag_injury\": 0}, {\"car\": \"Nissan Rogue\", \"year\": 2002, \"total\": 0, \"injured(all)\": 0, \"death(all)\": 0, \"airbag_death\": 0, \"airbag_injury\": 0}, {\"car\": \"Nissan Rogue\", \"year\": 2003, \"total\": 0, \"injured(all)\": 0, \"death(all)\": 0, \"airbag_death\": 0, \"airbag_injury\": 0}, {\"car\": \"Nissan Rogue\", \"year\": 2004, \"total\": 0, \"injured(all)\": 0, \"death(all)\": 0, \"airbag_death\": 0, \"airbag_injury\": 0}, {\"car\": \"Nissan Rogue\", \"year\": 2005, \"total\": 0, \"injured(all)\": 0, \"death(all)\": 0, \"airbag_death\": 0, \"airbag_injury\": 0}, {\"car\": \"Nissan Rogue\", \"year\": 2006, \"total\": 0, \"injured(all)\": 0, \"death(all)\": 0, \"airbag_death\": 0, \"airbag_injury\": 0}, {\"car\": \"Nissan Rogue\", \"year\": 2007, \"total\": 1, \"injured(all)\": 0, \"death(all)\": 0, \"airbag_death\": 0, \"airbag_injury\": 0}, {\"car\": \"Nissan Rogue\", \"year\": 2008, \"total\": 385, \"injured(all)\": 4, \"death(all)\": 0, \"airbag_death\": 0, \"airbag_injury\": 3}, {\"car\": \"Nissan Rogue\", \"year\": 2009, \"total\": 292, \"injured(all)\": 1, \"death(all)\": 0, \"airbag_death\": 0, \"airbag_injury\": 0}, {\"car\": \"Nissan Rogue\", \"year\": 2010, \"total\": 252, \"injured(all)\": 7, \"death(all)\": 0, \"airbag_death\": 0, \"airbag_injury\": 5}, {\"car\": \"Nissan Rogue\", \"year\": 2011, \"total\": 307, \"injured(all)\": 5, \"death(all)\": 0, \"airbag_death\": 0, \"airbag_injury\": 2}, {\"car\": \"Nissan Rogue\", \"year\": 2012, \"total\": 242, \"injured(all)\": 7, \"death(all)\": 0, \"airbag_death\": 0, \"airbag_injury\": 6}, {\"car\": \"Nissan Rogue\", \"year\": 2013, \"total\": 430, \"injured(all)\": 7, \"death(all)\": 1, \"airbag_death\": 1, \"airbag_injury\": 7}, {\"car\": \"Nissan Rogue\", \"year\": 2014, \"total\": 282, \"injured(all)\": 14, \"death(all)\": 0, \"airbag_death\": 0, \"airbag_injury\": 6}, {\"car\": \"Nissan Rogue\", \"year\": 2015, \"total\": 263, \"injured(all)\": 31, \"death(all)\": 0, \"airbag_death\": 0, \"airbag_injury\": 12}, {\"car\": \"Nissan Rogue\", \"year\": 2016, \"total\": 198, \"injured(all)\": 25, \"death(all)\": 3, \"airbag_death\": 0, \"airbag_injury\": 19}, {\"car\": \"Nissan Rogue\", \"year\": 2017, \"total\": 257, \"injured(all)\": 30, \"death(all)\": 0, \"airbag_death\": 0, \"airbag_injury\": 14}, {\"car\": \"Nissan Rogue\", \"year\": 2018, \"total\": 358, \"injured(all)\": 25, \"death(all)\": 0, \"airbag_death\": 0, \"airbag_injury\": 5}]}};\n",
       "const opt = {};\n",
       "const type = \"vega-lite\";\n",
       "const id = \"5b08f161-2c5c-4035-b7f8-ad8adc3995f5\";\n",
       "\n",
       "const output_area = this;\n",
       "\n",
       "require([\"nbextensions/jupyter-vega/index\"], function(vega) {\n",
       "  const target = document.createElement(\"div\");\n",
       "  target.id = id;\n",
       "  target.className = \"vega-embed\";\n",
       "\n",
       "  const style = document.createElement(\"style\");\n",
       "  style.textContent = [\n",
       "    \".vega-embed .error p {\",\n",
       "    \"  color: firebrick;\",\n",
       "    \"  font-size: 14px;\",\n",
       "    \"}\",\n",
       "  ].join(\"\\\\n\");\n",
       "\n",
       "  // element is a jQuery wrapped DOM element inside the output area\n",
       "  // see http://ipython.readthedocs.io/en/stable/api/generated/\\\n",
       "  // IPython.display.html#IPython.display.Javascript.__init__\n",
       "  element[0].appendChild(target);\n",
       "  element[0].appendChild(style);\n",
       "\n",
       "  vega.render(\"#\" + id, spec, type, opt, output_area);\n",
       "}, function (err) {\n",
       "  if (err.requireType !== \"scripterror\") {\n",
       "    throw(err);\n",
       "  }\n",
       "});\n"
      ],
      "text/plain": [
       "<vega.vegalite.VegaLite at 0x1b052223b08>"
      ]
     },
     "metadata": {
      "jupyter-vega": "#5b08f161-2c5c-4035-b7f8-ad8adc3995f5"
     },
     "output_type": "display_data"
    },
    {
     "data": {
      "text/plain": []
     },
     "execution_count": 9,
     "metadata": {},
     "output_type": "execute_result"
    },
    {
     "data": {
      "image/png": "[encoded data removed]"
     },
     "metadata": {
      "jupyter-vega": "#5b08f161-2c5c-4035-b7f8-ad8adc3995f5"
     },
     "output_type": "display_data"
    }
   ],
   "source": [
    "import altair as alt\n",
    "alt.renderers.enable('notebook')\n",
    "import pandas as pd\n",
    "df =pd.DataFrame.from_dict(data)\n",
    "chart1 = alt.Chart(df, title = 'Total Injuries').mark_bar(opacity=0.4).encode( x='year',y='injured(all)', color ='car'  )\n",
    "chart2 = alt.Chart(df, title = 'Airbag Injuries').mark_bar(opacity=0.4).encode( x='year', y =alt.Y('airbag_injury', scale =alt.Scale(domain=(0,180))), color ='car')\n",
    "alt.hconcat(chart1, chart2)\n"
   ]
  },
  {
   "cell_type": "markdown",
   "metadata": {
    "ExecuteTime": {
     "end_time": "2019-10-12T04:28:39.977189Z",
     "start_time": "2019-10-12T04:28:39.958240Z"
    }
   },
   "source": [
    "Here we are comparing the total deaths to total deaths where an airbag malfunction was reported. There seems to be quite a few deaths that correlated to airbags. "
   ]
  },
  {
   "cell_type": "code",
   "execution_count": 10,
   "metadata": {
    "ExecuteTime": {
     "end_time": "2020-11-16T04:21:03.620576Z",
     "start_time": "2020-11-16T04:21:03.564483Z"
    }
   },
   "outputs": [
    {
     "data": {
      "application/javascript": [
       "const spec = {\"config\": {\"view\": {\"width\": 400, \"height\": 300}, \"mark\": {\"tooltip\": null}}, \"hconcat\": [{\"mark\": {\"type\": \"bar\", \"opacity\": 0.4}, \"encoding\": {\"color\": {\"type\": \"nominal\", \"field\": \"car\"}, \"x\": {\"type\": \"quantitative\", \"field\": \"year\"}, \"y\": {\"type\": \"quantitative\", \"field\": \"death(all)\"}}, \"title\": \"Total Deaths\"}, {\"mark\": {\"type\": \"bar\", \"opacity\": 0.4}, \"encoding\": {\"color\": {\"type\": \"nominal\", \"field\": \"car\"}, \"x\": {\"type\": \"quantitative\", \"field\": \"year\"}, \"y\": {\"type\": \"quantitative\", \"field\": \"airbag_death\", \"scale\": {\"domain\": [0, 12]}}}, \"title\": \"Airbag Deaths\"}], \"data\": {\"name\": \"data-37dd57b7f77930c378853c06865b31b5\"}, \"$schema\": \"https://vega.github.io/schema/vega-lite/v3.4.0.json\", \"datasets\": {\"data-37dd57b7f77930c378853c06865b31b5\": [{\"car\": \"Toyota Tacoma\", \"year\": 2000, \"total\": 198, \"injured(all)\": 17, \"death(all)\": 0, \"airbag_death\": 0, \"airbag_injury\": 13}, {\"car\": \"Toyota Tacoma\", \"year\": 2001, \"total\": 394, \"injured(all)\": 36, \"death(all)\": 4, \"airbag_death\": 0, \"airbag_injury\": 15}, {\"car\": \"Toyota Tacoma\", \"year\": 2002, \"total\": 309, \"injured(all)\": 21, \"death(all)\": 0, \"airbag_death\": 0, \"airbag_injury\": 13}, {\"car\": \"Toyota Tacoma\", \"year\": 2003, \"total\": 328, \"injured(all)\": 17, \"death(all)\": 0, \"airbag_death\": 0, \"airbag_injury\": 13}, {\"car\": \"Toyota Tacoma\", \"year\": 2004, \"total\": 372, \"injured(all)\": 20, \"death(all)\": 0, \"airbag_death\": 0, \"airbag_injury\": 12}, {\"car\": \"Toyota Tacoma\", \"year\": 2005, \"total\": 675, \"injured(all)\": 16, \"death(all)\": 0, \"airbag_death\": 0, \"airbag_injury\": 2}, {\"car\": \"Toyota Tacoma\", \"year\": 2006, \"total\": 727, \"injured(all)\": 29, \"death(all)\": 0, \"airbag_death\": 0, \"airbag_injury\": 4}, {\"car\": \"Toyota Tacoma\", \"year\": 2007, \"total\": 483, \"injured(all)\": 29, \"death(all)\": 2, \"airbag_death\": 0, \"airbag_injury\": 6}, {\"car\": \"Toyota Tacoma\", \"year\": 2008, \"total\": 371, \"injured(all)\": 27, \"death(all)\": 4, \"airbag_death\": 0, \"airbag_injury\": 16}, {\"car\": \"Toyota Tacoma\", \"year\": 2009, \"total\": 462, \"injured(all)\": 1, \"death(all)\": 0, \"airbag_death\": 0, \"airbag_injury\": 0}, {\"car\": \"Toyota Tacoma\", \"year\": 2010, \"total\": 249, \"injured(all)\": 9, \"death(all)\": 0, \"airbag_death\": 0, \"airbag_injury\": 5}, {\"car\": \"Toyota Tacoma\", \"year\": 2011, \"total\": 154, \"injured(all)\": 6, \"death(all)\": 2, \"airbag_death\": 1, \"airbag_injury\": 3}, {\"car\": \"Toyota Tacoma\", \"year\": 2012, \"total\": 266, \"injured(all)\": 2, \"death(all)\": 0, \"airbag_death\": 0, \"airbag_injury\": 1}, {\"car\": \"Toyota Tacoma\", \"year\": 2013, \"total\": 99, \"injured(all)\": 5, \"death(all)\": 0, \"airbag_death\": 0, \"airbag_injury\": 5}, {\"car\": \"Toyota Tacoma\", \"year\": 2014, \"total\": 63, \"injured(all)\": 8, \"death(all)\": 0, \"airbag_death\": 0, \"airbag_injury\": 2}, {\"car\": \"Toyota Tacoma\", \"year\": 2015, \"total\": 64, \"injured(all)\": 7, \"death(all)\": 0, \"airbag_death\": 0, \"airbag_injury\": 4}, {\"car\": \"Toyota Tacoma\", \"year\": 2016, \"total\": 242, \"injured(all)\": 0, \"death(all)\": 0, \"airbag_death\": 0, \"airbag_injury\": 0}, {\"car\": \"Toyota Tacoma\", \"year\": 2017, \"total\": 143, \"injured(all)\": 5, \"death(all)\": 0, \"airbag_death\": 0, \"airbag_injury\": 5}, {\"car\": \"Toyota Tacoma\", \"year\": 2018, \"total\": 121, \"injured(all)\": 1, \"death(all)\": 0, \"airbag_death\": 0, \"airbag_injury\": 0}, {\"car\": \"Ford Escape\", \"year\": 2000, \"total\": 5, \"injured(all)\": 1, \"death(all)\": 0, \"airbag_death\": 0, \"airbag_injury\": 1}, {\"car\": \"Ford Escape\", \"year\": 2001, \"total\": 1011, \"injured(all)\": 75, \"death(all)\": 3, \"airbag_death\": 1, \"airbag_injury\": 28}, {\"car\": \"Ford Escape\", \"year\": 2002, \"total\": 1022, \"injured(all)\": 42, \"death(all)\": 2, \"airbag_death\": 0, \"airbag_injury\": 16}, {\"car\": \"Ford Escape\", \"year\": 2003, \"total\": 546, \"injured(all)\": 30, \"death(all)\": 0, \"airbag_death\": 0, \"airbag_injury\": 12}, {\"car\": \"Ford Escape\", \"year\": 2004, \"total\": 487, \"injured(all)\": 14, \"death(all)\": 1, \"airbag_death\": 0, \"airbag_injury\": 4}, {\"car\": \"Ford Escape\", \"year\": 2005, \"total\": 1358, \"injured(all)\": 27, \"death(all)\": 2, \"airbag_death\": 1, \"airbag_injury\": 15}, {\"car\": \"Ford Escape\", \"year\": 2006, \"total\": 437, \"injured(all)\": 24, \"death(all)\": 2, \"airbag_death\": 2, \"airbag_injury\": 16}, {\"car\": \"Ford Escape\", \"year\": 2007, \"total\": 231, \"injured(all)\": 9, \"death(all)\": 2, \"airbag_death\": 1, \"airbag_injury\": 5}, {\"car\": \"Ford Escape\", \"year\": 2008, \"total\": 1780, \"injured(all)\": 38, \"death(all)\": 0, \"airbag_death\": 0, \"airbag_injury\": 10}, {\"car\": \"Ford Escape\", \"year\": 2009, \"total\": 1374, \"injured(all)\": 12, \"death(all)\": 0, \"airbag_death\": 0, \"airbag_injury\": 3}, {\"car\": \"Ford Escape\", \"year\": 2010, \"total\": 1857, \"injured(all)\": 21, \"death(all)\": 0, \"airbag_death\": 0, \"airbag_injury\": 5}, {\"car\": \"Ford Escape\", \"year\": 2011, \"total\": 1044, \"injured(all)\": 36, \"death(all)\": 0, \"airbag_death\": 0, \"airbag_injury\": 23}, {\"car\": \"Ford Escape\", \"year\": 2012, \"total\": 468, \"injured(all)\": 22, \"death(all)\": 0, \"airbag_death\": 0, \"airbag_injury\": 16}, {\"car\": \"Ford Escape\", \"year\": 2013, \"total\": 1751, \"injured(all)\": 38, \"death(all)\": 0, \"airbag_death\": 0, \"airbag_injury\": 7}, {\"car\": \"Ford Escape\", \"year\": 2014, \"total\": 1088, \"injured(all)\": 26, \"death(all)\": 0, \"airbag_death\": 0, \"airbag_injury\": 12}, {\"car\": \"Ford Escape\", \"year\": 2015, \"total\": 354, \"injured(all)\": 22, \"death(all)\": 0, \"airbag_death\": 0, \"airbag_injury\": 10}, {\"car\": \"Ford Escape\", \"year\": 2016, \"total\": 294, \"injured(all)\": 8, \"death(all)\": 0, \"airbag_death\": 0, \"airbag_injury\": 6}, {\"car\": \"Ford Escape\", \"year\": 2017, \"total\": 329, \"injured(all)\": 44, \"death(all)\": 0, \"airbag_death\": 0, \"airbag_injury\": 22}, {\"car\": \"Ford Escape\", \"year\": 2018, \"total\": 104, \"injured(all)\": 10, \"death(all)\": 0, \"airbag_death\": 0, \"airbag_injury\": 0}, {\"car\": \"Honda Civic\", \"year\": 2000, \"total\": 281, \"injured(all)\": 44, \"death(all)\": 0, \"airbag_death\": 0, \"airbag_injury\": 38}, {\"car\": \"Honda Civic\", \"year\": 2001, \"total\": 1088, \"injured(all)\": 132, \"death(all)\": 6, \"airbag_death\": 5, \"airbag_injury\": 114}, {\"car\": \"Honda Civic\", \"year\": 2002, \"total\": 680, \"injured(all)\": 99, \"death(all)\": 2, \"airbag_death\": 2, \"airbag_injury\": 76}, {\"car\": \"Honda Civic\", \"year\": 2003, \"total\": 480, \"injured(all)\": 63, \"death(all)\": 12, \"airbag_death\": 0, \"airbag_injury\": 44}, {\"car\": \"Honda Civic\", \"year\": 2004, \"total\": 340, \"injured(all)\": 35, \"death(all)\": 1, \"airbag_death\": 1, \"airbag_injury\": 24}, {\"car\": \"Honda Civic\", \"year\": 2005, \"total\": 293, \"injured(all)\": 65, \"death(all)\": 2, \"airbag_death\": 0, \"airbag_injury\": 52}, {\"car\": \"Honda Civic\", \"year\": 2006, \"total\": 1354, \"injured(all)\": 65, \"death(all)\": 3, \"airbag_death\": 0, \"airbag_injury\": 46}, {\"car\": \"Honda Civic\", \"year\": 2007, \"total\": 1158, \"injured(all)\": 70, \"death(all)\": 10, \"airbag_death\": 0, \"airbag_injury\": 23}, {\"car\": \"Honda Civic\", \"year\": 2008, \"total\": 849, \"injured(all)\": 44, \"death(all)\": 0, \"airbag_death\": 0, \"airbag_injury\": 36}, {\"car\": \"Honda Civic\", \"year\": 2009, \"total\": 369, \"injured(all)\": 33, \"death(all)\": 0, \"airbag_death\": 0, \"airbag_injury\": 24}, {\"car\": \"Honda Civic\", \"year\": 2010, \"total\": 361, \"injured(all)\": 26, \"death(all)\": 47, \"airbag_death\": 0, \"airbag_injury\": 15}, {\"car\": \"Honda Civic\", \"year\": 2011, \"total\": 154, \"injured(all)\": 16, \"death(all)\": 0, \"airbag_death\": 0, \"airbag_injury\": 15}, {\"car\": \"Honda Civic\", \"year\": 2012, \"total\": 363, \"injured(all)\": 35, \"death(all)\": 0, \"airbag_death\": 0, \"airbag_injury\": 21}, {\"car\": \"Honda Civic\", \"year\": 2013, \"total\": 228, \"injured(all)\": 23, \"death(all)\": 0, \"airbag_death\": 0, \"airbag_injury\": 13}, {\"car\": \"Honda Civic\", \"year\": 2014, \"total\": 185, \"injured(all)\": 20, \"death(all)\": 0, \"airbag_death\": 0, \"airbag_injury\": 15}, {\"car\": \"Honda Civic\", \"year\": 2015, \"total\": 177, \"injured(all)\": 18, \"death(all)\": 0, \"airbag_death\": 0, \"airbag_injury\": 14}, {\"car\": \"Honda Civic\", \"year\": 2016, \"total\": 523, \"injured(all)\": 11, \"death(all)\": 0, \"airbag_death\": 0, \"airbag_injury\": 8}, {\"car\": \"Honda Civic\", \"year\": 2017, \"total\": 200, \"injured(all)\": 7, \"death(all)\": 0, \"airbag_death\": 0, \"airbag_injury\": 4}, {\"car\": \"Honda Civic\", \"year\": 2018, \"total\": 103, \"injured(all)\": 8, \"death(all)\": 1, \"airbag_death\": 0, \"airbag_injury\": 4}, {\"car\": \"Toyota Corolla\", \"year\": 2000, \"total\": 144, \"injured(all)\": 18, \"death(all)\": 1, \"airbag_death\": 0, \"airbag_injury\": 11}, {\"car\": \"Toyota Corolla\", \"year\": 2001, \"total\": 132, \"injured(all)\": 58, \"death(all)\": 0, \"airbag_death\": 0, \"airbag_injury\": 44}, {\"car\": \"Toyota Corolla\", \"year\": 2002, \"total\": 119, \"injured(all)\": 21, \"death(all)\": 0, \"airbag_death\": 0, \"airbag_injury\": 16}, {\"car\": \"Toyota Corolla\", \"year\": 2003, \"total\": 697, \"injured(all)\": 86, \"death(all)\": 1, \"airbag_death\": 0, \"airbag_injury\": 57}, {\"car\": \"Toyota Corolla\", \"year\": 2004, \"total\": 463, \"injured(all)\": 56, \"death(all)\": 4, \"airbag_death\": 0, \"airbag_injury\": 39}, {\"car\": \"Toyota Corolla\", \"year\": 2005, \"total\": 828, \"injured(all)\": 89, \"death(all)\": 1, \"airbag_death\": 0, \"airbag_injury\": 57}, {\"car\": \"Toyota Corolla\", \"year\": 2006, \"total\": 824, \"injured(all)\": 82, \"death(all)\": 0, \"airbag_death\": 0, \"airbag_injury\": 43}, {\"car\": \"Toyota Corolla\", \"year\": 2007, \"total\": 811, \"injured(all)\": 80, \"death(all)\": 3, \"airbag_death\": 2, \"airbag_injury\": 45}, {\"car\": \"Toyota Corolla\", \"year\": 2008, \"total\": 302, \"injured(all)\": 43, \"death(all)\": 1, \"airbag_death\": 0, \"airbag_injury\": 25}, {\"car\": \"Toyota Corolla\", \"year\": 2009, \"total\": 1434, \"injured(all)\": 104, \"death(all)\": 2, \"airbag_death\": 1, \"airbag_injury\": 49}, {\"car\": \"Toyota Corolla\", \"year\": 2010, \"total\": 1207, \"injured(all)\": 97, \"death(all)\": 0, \"airbag_death\": 0, \"airbag_injury\": 41}, {\"car\": \"Toyota Corolla\", \"year\": 2011, \"total\": 561, \"injured(all)\": 33, \"death(all)\": 0, \"airbag_death\": 0, \"airbag_injury\": 27}, {\"car\": \"Toyota Corolla\", \"year\": 2012, \"total\": 416, \"injured(all)\": 21, \"death(all)\": 0, \"airbag_death\": 0, \"airbag_injury\": 14}, {\"car\": \"Toyota Corolla\", \"year\": 2013, \"total\": 179, \"injured(all)\": 51, \"death(all)\": 0, \"airbag_death\": 0, \"airbag_injury\": 36}, {\"car\": \"Toyota Corolla\", \"year\": 2014, \"total\": 215, \"injured(all)\": 35, \"death(all)\": 1, \"airbag_death\": 1, \"airbag_injury\": 25}, {\"car\": \"Toyota Corolla\", \"year\": 2015, \"total\": 161, \"injured(all)\": 38, \"death(all)\": 0, \"airbag_death\": 0, \"airbag_injury\": 30}, {\"car\": \"Toyota Corolla\", \"year\": 2016, \"total\": 167, \"injured(all)\": 43, \"death(all)\": 0, \"airbag_death\": 0, \"airbag_injury\": 35}, {\"car\": \"Toyota Corolla\", \"year\": 2017, \"total\": 116, \"injured(all)\": 20, \"death(all)\": 0, \"airbag_death\": 0, \"airbag_injury\": 16}, {\"car\": \"Toyota Corolla\", \"year\": 2018, \"total\": 82, \"injured(all)\": 12, \"death(all)\": 1, \"airbag_death\": 1, \"airbag_injury\": 7}, {\"car\": \"Toyota Camry\", \"year\": 2000, \"total\": 450, \"injured(all)\": 84, \"death(all)\": 3, \"airbag_death\": 2, \"airbag_injury\": 44}, {\"car\": \"Toyota Camry\", \"year\": 2001, \"total\": 270, \"injured(all)\": 58, \"death(all)\": 3, \"airbag_death\": 2, \"airbag_injury\": 23}, {\"car\": \"Toyota Camry\", \"year\": 2002, \"total\": 941, \"injured(all)\": 131, \"death(all)\": 11, \"airbag_death\": 3, \"airbag_injury\": 47}, {\"car\": \"Toyota Camry\", \"year\": 2003, \"total\": 763, \"injured(all)\": 105, \"death(all)\": 5, \"airbag_death\": 0, \"airbag_injury\": 45}, {\"car\": \"Toyota Camry\", \"year\": 2004, \"total\": 627, \"injured(all)\": 131, \"death(all)\": 5, \"airbag_death\": 1, \"airbag_injury\": 51}, {\"car\": \"Toyota Camry\", \"year\": 2005, \"total\": 707, \"injured(all)\": 125, \"death(all)\": 6, \"airbag_death\": 0, \"airbag_injury\": 48}, {\"car\": \"Toyota Camry\", \"year\": 2006, \"total\": 306, \"injured(all)\": 65, \"death(all)\": 2, \"airbag_death\": 0, \"airbag_injury\": 20}, {\"car\": \"Toyota Camry\", \"year\": 2007, \"total\": 2762, \"injured(all)\": 170, \"death(all)\": 4, \"airbag_death\": 1, \"airbag_injury\": 81}, {\"car\": \"Toyota Camry\", \"year\": 2008, \"total\": 874, \"injured(all)\": 58, \"death(all)\": 0, \"airbag_death\": 0, \"airbag_injury\": 30}, {\"car\": \"Toyota Camry\", \"year\": 2009, \"total\": 1192, \"injured(all)\": 80, \"death(all)\": 2, \"airbag_death\": 0, \"airbag_injury\": 31}, {\"car\": \"Toyota Camry\", \"year\": 2010, \"total\": 555, \"injured(all)\": 55, \"death(all)\": 0, \"airbag_death\": 0, \"airbag_injury\": 38}, {\"car\": \"Toyota Camry\", \"year\": 2011, \"total\": 511, \"injured(all)\": 75, \"death(all)\": 0, \"airbag_death\": 0, \"airbag_injury\": 38}, {\"car\": \"Toyota Camry\", \"year\": 2012, \"total\": 458, \"injured(all)\": 60, \"death(all)\": 0, \"airbag_death\": 0, \"airbag_injury\": 40}, {\"car\": \"Toyota Camry\", \"year\": 2013, \"total\": 218, \"injured(all)\": 27, \"death(all)\": 1, \"airbag_death\": 0, \"airbag_injury\": 18}, {\"car\": \"Toyota Camry\", \"year\": 2014, \"total\": 315, \"injured(all)\": 32, \"death(all)\": 0, \"airbag_death\": 0, \"airbag_injury\": 21}, {\"car\": \"Toyota Camry\", \"year\": 2015, \"total\": 204, \"injured(all)\": 10, \"death(all)\": 1, \"airbag_death\": 1, \"airbag_injury\": 9}, {\"car\": \"Toyota Camry\", \"year\": 2016, \"total\": 118, \"injured(all)\": 28, \"death(all)\": 0, \"airbag_death\": 0, \"airbag_injury\": 20}, {\"car\": \"Toyota Camry\", \"year\": 2017, \"total\": 83, \"injured(all)\": 17, \"death(all)\": 0, \"airbag_death\": 0, \"airbag_injury\": 8}, {\"car\": \"Toyota Camry\", \"year\": 2018, \"total\": 293, \"injured(all)\": 11, \"death(all)\": 0, \"airbag_death\": 0, \"airbag_injury\": 7}, {\"car\": \"Chevrolet Equinox\", \"year\": 2000, \"total\": 0, \"injured(all)\": 0, \"death(all)\": 0, \"airbag_death\": 0, \"airbag_injury\": 0}, {\"car\": \"Chevrolet Equinox\", \"year\": 2001, \"total\": 0, \"injured(all)\": 0, \"death(all)\": 0, \"airbag_death\": 0, \"airbag_injury\": 0}, {\"car\": \"Chevrolet Equinox\", \"year\": 2002, \"total\": 0, \"injured(all)\": 0, \"death(all)\": 0, \"airbag_death\": 0, \"airbag_injury\": 0}, {\"car\": \"Chevrolet Equinox\", \"year\": 2003, \"total\": 0, \"injured(all)\": 0, \"death(all)\": 0, \"airbag_death\": 0, \"airbag_injury\": 0}, {\"car\": \"Chevrolet Equinox\", \"year\": 2004, \"total\": 0, \"injured(all)\": 0, \"death(all)\": 0, \"airbag_death\": 0, \"airbag_injury\": 0}, {\"car\": \"Chevrolet Equinox\", \"year\": 2005, \"total\": 620, \"injured(all)\": 39, \"death(all)\": 0, \"airbag_death\": 0, \"airbag_injury\": 23}, {\"car\": \"Chevrolet Equinox\", \"year\": 2006, \"total\": 686, \"injured(all)\": 20, \"death(all)\": 1, \"airbag_death\": 1, \"airbag_injury\": 13}, {\"car\": \"Chevrolet Equinox\", \"year\": 2007, \"total\": 665, \"injured(all)\": 17, \"death(all)\": 0, \"airbag_death\": 0, \"airbag_injury\": 10}, {\"car\": \"Chevrolet Equinox\", \"year\": 2008, \"total\": 352, \"injured(all)\": 12, \"death(all)\": 0, \"airbag_death\": 0, \"airbag_injury\": 8}, {\"car\": \"Chevrolet Equinox\", \"year\": 2009, \"total\": 90, \"injured(all)\": 6, \"death(all)\": 0, \"airbag_death\": 0, \"airbag_injury\": 2}, {\"car\": \"Chevrolet Equinox\", \"year\": 2010, \"total\": 714, \"injured(all)\": 20, \"death(all)\": 0, \"airbag_death\": 0, \"airbag_injury\": 12}, {\"car\": \"Chevrolet Equinox\", \"year\": 2011, \"total\": 650, \"injured(all)\": 42, \"death(all)\": 2, \"airbag_death\": 0, \"airbag_injury\": 12}, {\"car\": \"Chevrolet Equinox\", \"year\": 2012, \"total\": 528, \"injured(all)\": 13, \"death(all)\": 0, \"airbag_death\": 0, \"airbag_injury\": 6}, {\"car\": \"Chevrolet Equinox\", \"year\": 2013, \"total\": 530, \"injured(all)\": 14, \"death(all)\": 0, \"airbag_death\": 0, \"airbag_injury\": 6}, {\"car\": \"Chevrolet Equinox\", \"year\": 2014, \"total\": 322, \"injured(all)\": 8, \"death(all)\": 0, \"airbag_death\": 0, \"airbag_injury\": 6}, {\"car\": \"Chevrolet Equinox\", \"year\": 2015, \"total\": 354, \"injured(all)\": 15, \"death(all)\": 0, \"airbag_death\": 0, \"airbag_injury\": 13}, {\"car\": \"Chevrolet Equinox\", \"year\": 2016, \"total\": 121, \"injured(all)\": 17, \"death(all)\": 0, \"airbag_death\": 0, \"airbag_injury\": 5}, {\"car\": \"Chevrolet Equinox\", \"year\": 2017, \"total\": 45, \"injured(all)\": 5, \"death(all)\": 0, \"airbag_death\": 0, \"airbag_injury\": 5}, {\"car\": \"Chevrolet Equinox\", \"year\": 2018, \"total\": 142, \"injured(all)\": 18, \"death(all)\": 0, \"airbag_death\": 0, \"airbag_injury\": 7}, {\"car\": \"Honda CR-V\", \"year\": 2000, \"total\": 125, \"injured(all)\": 8, \"death(all)\": 1, \"airbag_death\": 0, \"airbag_injury\": 1}, {\"car\": \"Honda CR-V\", \"year\": 2001, \"total\": 135, \"injured(all)\": 9, \"death(all)\": 1, \"airbag_death\": 1, \"airbag_injury\": 4}, {\"car\": \"Honda CR-V\", \"year\": 2002, \"total\": 500, \"injured(all)\": 48, \"death(all)\": 0, \"airbag_death\": 0, \"airbag_injury\": 33}, {\"car\": \"Honda CR-V\", \"year\": 2003, \"total\": 449, \"injured(all)\": 36, \"death(all)\": 0, \"airbag_death\": 0, \"airbag_injury\": 29}, {\"car\": \"Honda CR-V\", \"year\": 2004, \"total\": 478, \"injured(all)\": 31, \"death(all)\": 0, \"airbag_death\": 0, \"airbag_injury\": 16}, {\"car\": \"Honda CR-V\", \"year\": 2005, \"total\": 448, \"injured(all)\": 29, \"death(all)\": 0, \"airbag_death\": 0, \"airbag_injury\": 25}, {\"car\": \"Honda CR-V\", \"year\": 2006, \"total\": 366, \"injured(all)\": 22, \"death(all)\": 0, \"airbag_death\": 0, \"airbag_injury\": 12}, {\"car\": \"Honda CR-V\", \"year\": 2007, \"total\": 801, \"injured(all)\": 22, \"death(all)\": 1, \"airbag_death\": 1, \"airbag_injury\": 14}, {\"car\": \"Honda CR-V\", \"year\": 2008, \"total\": 859, \"injured(all)\": 38, \"death(all)\": 0, \"airbag_death\": 0, \"airbag_injury\": 26}, {\"car\": \"Honda CR-V\", \"year\": 2009, \"total\": 328, \"injured(all)\": 15, \"death(all)\": 0, \"airbag_death\": 0, \"airbag_injury\": 13}, {\"car\": \"Honda CR-V\", \"year\": 2010, \"total\": 398, \"injured(all)\": 13, \"death(all)\": 0, \"airbag_death\": 0, \"airbag_injury\": 7}, {\"car\": \"Honda CR-V\", \"year\": 2011, \"total\": 448, \"injured(all)\": 9, \"death(all)\": 0, \"airbag_death\": 0, \"airbag_injury\": 4}, {\"car\": \"Honda CR-V\", \"year\": 2012, \"total\": 309, \"injured(all)\": 22, \"death(all)\": 0, \"airbag_death\": 0, \"airbag_injury\": 9}, {\"car\": \"Honda CR-V\", \"year\": 2013, \"total\": 310, \"injured(all)\": 10, \"death(all)\": 0, \"airbag_death\": 0, \"airbag_injury\": 4}, {\"car\": \"Honda CR-V\", \"year\": 2014, \"total\": 456, \"injured(all)\": 26, \"death(all)\": 3, \"airbag_death\": 2, \"airbag_injury\": 17}, {\"car\": \"Honda CR-V\", \"year\": 2015, \"total\": 522, \"injured(all)\": 17, \"death(all)\": 0, \"airbag_death\": 0, \"airbag_injury\": 10}, {\"car\": \"Honda CR-V\", \"year\": 2016, \"total\": 234, \"injured(all)\": 25, \"death(all)\": 0, \"airbag_death\": 0, \"airbag_injury\": 12}, {\"car\": \"Honda CR-V\", \"year\": 2017, \"total\": 937, \"injured(all)\": 22, \"death(all)\": 0, \"airbag_death\": 0, \"airbag_injury\": 8}, {\"car\": \"Honda CR-V\", \"year\": 2018, \"total\": 687, \"injured(all)\": 24, \"death(all)\": 0, \"airbag_death\": 0, \"airbag_injury\": 9}, {\"car\": \"Chevrolet Silverado\", \"year\": 2000, \"total\": 1314, \"injured(all)\": 89, \"death(all)\": 2, \"airbag_death\": 1, \"airbag_injury\": 51}, {\"car\": \"Chevrolet Silverado\", \"year\": 2001, \"total\": 884, \"injured(all)\": 77, \"death(all)\": 3, \"airbag_death\": 3, \"airbag_injury\": 40}, {\"car\": \"Chevrolet Silverado\", \"year\": 2002, \"total\": 711, \"injured(all)\": 47, \"death(all)\": 1, \"airbag_death\": 0, \"airbag_injury\": 24}, {\"car\": \"Chevrolet Silverado\", \"year\": 2003, \"total\": 695, \"injured(all)\": 26, \"death(all)\": 2, \"airbag_death\": 1, \"airbag_injury\": 13}, {\"car\": \"Chevrolet Silverado\", \"year\": 2004, \"total\": 621, \"injured(all)\": 35, \"death(all)\": 3, \"airbag_death\": 1, \"airbag_injury\": 19}, {\"car\": \"Chevrolet Silverado\", \"year\": 2005, \"total\": 315, \"injured(all)\": 9, \"death(all)\": 0, \"airbag_death\": 0, \"airbag_injury\": 5}, {\"car\": \"Chevrolet Silverado\", \"year\": 2006, \"total\": 181, \"injured(all)\": 2, \"death(all)\": 5, \"airbag_death\": 2, \"airbag_injury\": 2}, {\"car\": \"Chevrolet Silverado\", \"year\": 2007, \"total\": 180, \"injured(all)\": 14, \"death(all)\": 1, \"airbag_death\": 1, \"airbag_injury\": 12}, {\"car\": \"Chevrolet Silverado\", \"year\": 2008, \"total\": 153, \"injured(all)\": 13, \"death(all)\": 1, \"airbag_death\": 1, \"airbag_injury\": 11}, {\"car\": \"Chevrolet Silverado\", \"year\": 2009, \"total\": 72, \"injured(all)\": 3, \"death(all)\": 1, \"airbag_death\": 0, \"airbag_injury\": 3}, {\"car\": \"Chevrolet Silverado\", \"year\": 2010, \"total\": 60, \"injured(all)\": 1, \"death(all)\": 0, \"airbag_death\": 0, \"airbag_injury\": 1}, {\"car\": \"Chevrolet Silverado\", \"year\": 2011, \"total\": 73, \"injured(all)\": 9, \"death(all)\": 0, \"airbag_death\": 0, \"airbag_injury\": 8}, {\"car\": \"Chevrolet Silverado\", \"year\": 2012, \"total\": 65, \"injured(all)\": 7, \"death(all)\": 0, \"airbag_death\": 0, \"airbag_injury\": 3}, {\"car\": \"Chevrolet Silverado\", \"year\": 2013, \"total\": 61, \"injured(all)\": 5, \"death(all)\": 0, \"airbag_death\": 0, \"airbag_injury\": 1}, {\"car\": \"Chevrolet Silverado\", \"year\": 2014, \"total\": 122, \"injured(all)\": 9, \"death(all)\": 0, \"airbag_death\": 0, \"airbag_injury\": 3}, {\"car\": \"Chevrolet Silverado\", \"year\": 2015, \"total\": 61, \"injured(all)\": 6, \"death(all)\": 0, \"airbag_death\": 0, \"airbag_injury\": 4}, {\"car\": \"Chevrolet Silverado\", \"year\": 2016, \"total\": 3, \"injured(all)\": 0, \"death(all)\": 0, \"airbag_death\": 0, \"airbag_injury\": 0}, {\"car\": \"Chevrolet Silverado\", \"year\": 2017, \"total\": 129, \"injured(all)\": 4, \"death(all)\": 0, \"airbag_death\": 0, \"airbag_injury\": 1}, {\"car\": \"Chevrolet Silverado\", \"year\": 2018, \"total\": 0, \"injured(all)\": 0, \"death(all)\": 0, \"airbag_death\": 0, \"airbag_injury\": 0}, {\"car\": \"Honda Accord\", \"year\": 2000, \"total\": 1172, \"injured(all)\": 69, \"death(all)\": 2, \"airbag_death\": 1, \"airbag_injury\": 43}, {\"car\": \"Honda Accord\", \"year\": 2001, \"total\": 899, \"injured(all)\": 115, \"death(all)\": 2, \"airbag_death\": 2, \"airbag_injury\": 82}, {\"car\": \"Honda Accord\", \"year\": 2002, \"total\": 1030, \"injured(all)\": 95, \"death(all)\": 3, \"airbag_death\": 2, \"airbag_injury\": 74}, {\"car\": \"Honda Accord\", \"year\": 2003, \"total\": 1941, \"injured(all)\": 140, \"death(all)\": 1, \"airbag_death\": 0, \"airbag_injury\": 99}, {\"car\": \"Honda Accord\", \"year\": 2004, \"total\": 977, \"injured(all)\": 69, \"death(all)\": 2, \"airbag_death\": 2, \"airbag_injury\": 44}, {\"car\": \"Honda Accord\", \"year\": 2005, \"total\": 635, \"injured(all)\": 88, \"death(all)\": 3, \"airbag_death\": 0, \"airbag_injury\": 56}, {\"car\": \"Honda Accord\", \"year\": 2006, \"total\": 401, \"injured(all)\": 38, \"death(all)\": 4, \"airbag_death\": 1, \"airbag_injury\": 28}, {\"car\": \"Honda Accord\", \"year\": 2007, \"total\": 468, \"injured(all)\": 76, \"death(all)\": 2, \"airbag_death\": 1, \"airbag_injury\": 56}, {\"car\": \"Honda Accord\", \"year\": 2008, \"total\": 1470, \"injured(all)\": 63, \"death(all)\": 1, \"airbag_death\": 1, \"airbag_injury\": 51}, {\"car\": \"Honda Accord\", \"year\": 2009, \"total\": 674, \"injured(all)\": 45, \"death(all)\": 2, \"airbag_death\": 2, \"airbag_injury\": 35}, {\"car\": \"Honda Accord\", \"year\": 2010, \"total\": 526, \"injured(all)\": 42, \"death(all)\": 1, \"airbag_death\": 0, \"airbag_injury\": 27}, {\"car\": \"Honda Accord\", \"year\": 2011, \"total\": 251, \"injured(all)\": 27, \"death(all)\": 0, \"airbag_death\": 0, \"airbag_injury\": 18}, {\"car\": \"Honda Accord\", \"year\": 2012, \"total\": 310, \"injured(all)\": 42, \"death(all)\": 1, \"airbag_death\": 0, \"airbag_injury\": 15}, {\"car\": \"Honda Accord\", \"year\": 2013, \"total\": 911, \"injured(all)\": 48, \"death(all)\": 0, \"airbag_death\": 0, \"airbag_injury\": 11}, {\"car\": \"Honda Accord\", \"year\": 2014, \"total\": 592, \"injured(all)\": 39, \"death(all)\": 0, \"airbag_death\": 0, \"airbag_injury\": 12}, {\"car\": \"Honda Accord\", \"year\": 2015, \"total\": 377, \"injured(all)\": 22, \"death(all)\": 0, \"airbag_death\": 0, \"airbag_injury\": 13}, {\"car\": \"Honda Accord\", \"year\": 2016, \"total\": 324, \"injured(all)\": 19, \"death(all)\": 0, \"airbag_death\": 0, \"airbag_injury\": 3}, {\"car\": \"Honda Accord\", \"year\": 2017, \"total\": 204, \"injured(all)\": 13, \"death(all)\": 0, \"airbag_death\": 0, \"airbag_injury\": 6}, {\"car\": \"Honda Accord\", \"year\": 2018, \"total\": 387, \"injured(all)\": 12, \"death(all)\": 0, \"airbag_death\": 0, \"airbag_injury\": 2}, {\"car\": \"Nissan Rogue\", \"year\": 2000, \"total\": 0, \"injured(all)\": 0, \"death(all)\": 0, \"airbag_death\": 0, \"airbag_injury\": 0}, {\"car\": \"Nissan Rogue\", \"year\": 2001, \"total\": 0, \"injured(all)\": 0, \"death(all)\": 0, \"airbag_death\": 0, \"airbag_injury\": 0}, {\"car\": \"Nissan Rogue\", \"year\": 2002, \"total\": 0, \"injured(all)\": 0, \"death(all)\": 0, \"airbag_death\": 0, \"airbag_injury\": 0}, {\"car\": \"Nissan Rogue\", \"year\": 2003, \"total\": 0, \"injured(all)\": 0, \"death(all)\": 0, \"airbag_death\": 0, \"airbag_injury\": 0}, {\"car\": \"Nissan Rogue\", \"year\": 2004, \"total\": 0, \"injured(all)\": 0, \"death(all)\": 0, \"airbag_death\": 0, \"airbag_injury\": 0}, {\"car\": \"Nissan Rogue\", \"year\": 2005, \"total\": 0, \"injured(all)\": 0, \"death(all)\": 0, \"airbag_death\": 0, \"airbag_injury\": 0}, {\"car\": \"Nissan Rogue\", \"year\": 2006, \"total\": 0, \"injured(all)\": 0, \"death(all)\": 0, \"airbag_death\": 0, \"airbag_injury\": 0}, {\"car\": \"Nissan Rogue\", \"year\": 2007, \"total\": 1, \"injured(all)\": 0, \"death(all)\": 0, \"airbag_death\": 0, \"airbag_injury\": 0}, {\"car\": \"Nissan Rogue\", \"year\": 2008, \"total\": 385, \"injured(all)\": 4, \"death(all)\": 0, \"airbag_death\": 0, \"airbag_injury\": 3}, {\"car\": \"Nissan Rogue\", \"year\": 2009, \"total\": 292, \"injured(all)\": 1, \"death(all)\": 0, \"airbag_death\": 0, \"airbag_injury\": 0}, {\"car\": \"Nissan Rogue\", \"year\": 2010, \"total\": 252, \"injured(all)\": 7, \"death(all)\": 0, \"airbag_death\": 0, \"airbag_injury\": 5}, {\"car\": \"Nissan Rogue\", \"year\": 2011, \"total\": 307, \"injured(all)\": 5, \"death(all)\": 0, \"airbag_death\": 0, \"airbag_injury\": 2}, {\"car\": \"Nissan Rogue\", \"year\": 2012, \"total\": 242, \"injured(all)\": 7, \"death(all)\": 0, \"airbag_death\": 0, \"airbag_injury\": 6}, {\"car\": \"Nissan Rogue\", \"year\": 2013, \"total\": 430, \"injured(all)\": 7, \"death(all)\": 1, \"airbag_death\": 1, \"airbag_injury\": 7}, {\"car\": \"Nissan Rogue\", \"year\": 2014, \"total\": 282, \"injured(all)\": 14, \"death(all)\": 0, \"airbag_death\": 0, \"airbag_injury\": 6}, {\"car\": \"Nissan Rogue\", \"year\": 2015, \"total\": 263, \"injured(all)\": 31, \"death(all)\": 0, \"airbag_death\": 0, \"airbag_injury\": 12}, {\"car\": \"Nissan Rogue\", \"year\": 2016, \"total\": 198, \"injured(all)\": 25, \"death(all)\": 3, \"airbag_death\": 0, \"airbag_injury\": 19}, {\"car\": \"Nissan Rogue\", \"year\": 2017, \"total\": 257, \"injured(all)\": 30, \"death(all)\": 0, \"airbag_death\": 0, \"airbag_injury\": 14}, {\"car\": \"Nissan Rogue\", \"year\": 2018, \"total\": 358, \"injured(all)\": 25, \"death(all)\": 0, \"airbag_death\": 0, \"airbag_injury\": 5}]}};\n",
       "const opt = {};\n",
       "const type = \"vega-lite\";\n",
       "const id = \"7c8f6c90-8c9b-4960-9495-f4ffe03b97f7\";\n",
       "\n",
       "const output_area = this;\n",
       "\n",
       "require([\"nbextensions/jupyter-vega/index\"], function(vega) {\n",
       "  const target = document.createElement(\"div\");\n",
       "  target.id = id;\n",
       "  target.className = \"vega-embed\";\n",
       "\n",
       "  const style = document.createElement(\"style\");\n",
       "  style.textContent = [\n",
       "    \".vega-embed .error p {\",\n",
       "    \"  color: firebrick;\",\n",
       "    \"  font-size: 14px;\",\n",
       "    \"}\",\n",
       "  ].join(\"\\\\n\");\n",
       "\n",
       "  // element is a jQuery wrapped DOM element inside the output area\n",
       "  // see http://ipython.readthedocs.io/en/stable/api/generated/\\\n",
       "  // IPython.display.html#IPython.display.Javascript.__init__\n",
       "  element[0].appendChild(target);\n",
       "  element[0].appendChild(style);\n",
       "\n",
       "  vega.render(\"#\" + id, spec, type, opt, output_area);\n",
       "}, function (err) {\n",
       "  if (err.requireType !== \"scripterror\") {\n",
       "    throw(err);\n",
       "  }\n",
       "});\n"
      ],
      "text/plain": [
       "<vega.vegalite.VegaLite at 0x1b04d6407c8>"
      ]
     },
     "metadata": {
      "jupyter-vega": "#7c8f6c90-8c9b-4960-9495-f4ffe03b97f7"
     },
     "output_type": "display_data"
    },
    {
     "data": {
      "text/plain": []
     },
     "execution_count": 10,
     "metadata": {},
     "output_type": "execute_result"
    },
    {
     "data": {
      "image/png": "[encoded data removed]"
     },
     "metadata": {
      "jupyter-vega": "#7c8f6c90-8c9b-4960-9495-f4ffe03b97f7"
     },
     "output_type": "display_data"
    }
   ],
   "source": [
    "chart3 = alt.Chart(df, title = 'Total Deaths').mark_bar(opacity=0.4).encode( x='year',y='death(all)', color ='car'  )\n",
    "chart4 = alt.Chart(df, title = 'Airbag Deaths').mark_bar(opacity=0.4).encode( x='year',y =alt.Y('airbag_death', scale =alt.Scale(domain=(0,12))), color ='car')\n",
    "alt.hconcat(chart3, chart4)"
   ]
  },
  {
   "cell_type": "markdown",
   "metadata": {},
   "source": [
    "# Analysis"
   ]
  },
  {
   "cell_type": "markdown",
   "metadata": {},
   "source": [
    "Based on the graphs with the same scaling, we can see there is a high number of airbag related injuries/deaths that occur. Airbags are classified as one complaint among many others, and to see that at times they account for almost 50 percent of injuries or deaths per year is striking. \n",
    "\n",
    "There is also a jump in airbag malfunctions from the years of the Takata Airbag recall, which is interesting to see visualized.\n"
   ]
  },
  {
   "cell_type": "markdown",
   "metadata": {},
   "source": [
    "# References "
   ]
  },
  {
   "cell_type": "markdown",
   "metadata": {},
   "source": [
    "\n",
    "1.  Takata Airbag Recall:  https://thomasjhenrylaw.com/blog/product-liability/takata-airbag-recall-a-complete-list-of-affected-vehicles/\n",
    "\n",
    "2.  Altair help: https://altair-viz.github.io/user_guide/customization.html\n",
    "\n",
    "3.  Best selling cars of 2019: https://www.caranddriver.com/news/g27041933/best-selling-cars-2019/?slide=15\n",
    "\n",
    "\n",
    "\n",
    "\n"
   ]
  },
  {
   "cell_type": "code",
   "execution_count": null,
   "metadata": {},
   "outputs": [],
   "source": []
  }
 ],
 "metadata": {
  "kernelspec": {
   "display_name": "Python 3 (ipykernel)",
   "language": "python",
   "name": "python3"
  },
  "language_info": {
   "codemirror_mode": {
    "name": "ipython",
    "version": 3
   },
   "file_extension": ".py",
   "mimetype": "text/x-python",
   "name": "python",
   "nbconvert_exporter": "python",
   "pygments_lexer": "ipython3",
   "version": "3.11.7"
  },
  "latex_envs": {
   "LaTeX_envs_menu_present": true,
   "autoclose": false,
   "autocomplete": true,
   "bibliofile": "biblio.bib",
   "cite_by": "apalike",
   "current_citInitial": 1,
   "eqLabelWithNumbers": true,
   "eqNumInitial": 1,
   "hotkeys": {
    "equation": "Ctrl-E",
    "itemize": "Ctrl-I"
   },
   "labels_anchors": false,
   "latex_user_defs": false,
   "report_style_numbering": false,
   "user_envs_cfg": false
  },
  "toc": {
   "base_numbering": 1,
   "nav_menu": {},
   "number_sections": true,
   "sideBar": true,
   "skip_h1_title": false,
   "title_cell": "Table of Contents",
   "title_sidebar": "Contents",
   "toc_cell": false,
   "toc_position": {},
   "toc_section_display": true,
   "toc_window_display": false
  }
 },
 "nbformat": 4,
 "nbformat_minor": 4
}
